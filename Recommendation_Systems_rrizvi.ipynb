{
  "cells": [
    {
      "cell_type": "markdown",
      "metadata": {
        "id": "view-in-github",
        "colab_type": "text"
      },
      "source": [
        "<a href=\"https://colab.research.google.com/github/raif-rizvi/Amazon_Product_Recommendation_System/blob/main/Recommendation_Systems_rrizvi.ipynb\" target=\"_parent\"><img src=\"https://colab.research.google.com/assets/colab-badge.svg\" alt=\"Open In Colab\"/></a>"
      ]
    },
    {
      "cell_type": "code",
      "source": [
        "!git clone https://github.com/raif-rizvi/Amazon_Product_Recommendation_System.git\n"
      ],
      "metadata": {
        "colab": {
          "base_uri": "https://localhost:8080/"
        },
        "id": "h9WAR3vUE3iV",
        "outputId": "03267e33-45db-41c5-e262-35796a8c0482"
      },
      "execution_count": 57,
      "outputs": [
        {
          "output_type": "stream",
          "name": "stdout",
          "text": [
            "fatal: destination path 'Amazon_Product_Recommendation_System' already exists and is not an empty directory.\n"
          ]
        }
      ]
    },
    {
      "cell_type": "markdown",
      "metadata": {
        "id": "pXQzH0nC5JtP"
      },
      "source": [
        "# **Amazon Product Recommendation System**\n",
        "\n",
        "\n",
        "\n",
        "Welcome to the project on Recommendation Systems. We will work with the Amazon product reviews dataset for this project. The dataset contains ratings of different electronic products. It does not include information about the products or reviews to avoid bias while building the model.\n",
        "\n",
        "--------------\n",
        "## **Context:**\n",
        "--------------\n",
        "\n",
        "Today, information is growing exponentially with volume, velocity and variety throughout the globe. This has lead to information overload, and too many choices for the consumer of any business. It represents a real dilemma for these consumers and they often turn to denial. Recommender Systems are one of the best tools that help recommending products to consumers while they are browsing online. Providing personalized recommendations which is most relevant for the user is what's most likely to keep them engaged and help business.\n",
        "\n",
        "E-commerce websites like Amazon, Walmart, Target and Etsy use different recommendation models to provide personalized suggestions to different users. These companies spend millions of dollars to come up with algorithmic techniques that can provide personalized recommendations to their users.\n",
        "\n",
        "Amazon, for example, is well-known for its accurate selection of recommendations in its online site. Amazon's recommendation system is capable of intelligently analyzing and predicting customers' shopping preferences in order to offer them a list of recommended products. Amazon's recommendation algorithm is therefore a key element in using AI to improve the personalization of its website. For example, one of the baseline recommendation models that Amazon uses is item-to-item collaborative filtering, which scales to massive data sets and produces high-quality recommendations in real-time.\n",
        "\n",
        "----------------\n",
        "## **Objective:**\n",
        "----------------\n",
        "\n",
        "You are a Data Science Manager at Amazon, and have been given the task of building a recommendation system to recommend products to customers based on their previous ratings for other products. You have a collection of labeled data of Amazon reviews of products. The goal is to extract meaningful insights from the data and build a recommendation system that helps in recommending products to online consumers.\n",
        "\n",
        "-----------------------------\n",
        "## **Dataset:**\n",
        "-----------------------------\n",
        "\n",
        "The Amazon dataset contains the following attributes:\n",
        "\n",
        "- **userId:** Every user identified with a unique id\n",
        "- **productId:** Every product identified with a unique id\n",
        "- **Rating:** The rating of the corresponding product by the corresponding user\n",
        "- **timestamp:** Time of the rating. We **will not use this column** to solve the current problem"
      ]
    },
    {
      "cell_type": "markdown",
      "metadata": {
        "id": "UoRfgjS2yekq"
      },
      "source": [
        "Sometimes, the installation of the surprise library, which is used to build recommendation systems, faces issues in Jupyter. To avoid any issues, it is advised to use **Google Colab** for this project.\n",
        "\n",
        "Let's start by mounting the Google drive on Colab."
      ]
    },
    {
      "cell_type": "code",
      "source": [],
      "metadata": {
        "id": "I-hYr5NKFo9F"
      },
      "execution_count": 57,
      "outputs": []
    },
    {
      "cell_type": "code",
      "execution_count": 58,
      "metadata": {
        "id": "GZ0YAszcT4zK",
        "colab": {
          "base_uri": "https://localhost:8080/"
        },
        "outputId": "be7c39fe-3deb-48b5-d51c-83afaad15a75"
      },
      "outputs": [
        {
          "output_type": "stream",
          "name": "stdout",
          "text": [
            "Drive already mounted at /content/drive; to attempt to forcibly remount, call drive.mount(\"/content/drive\", force_remount=True).\n"
          ]
        }
      ],
      "source": [
        "from google.colab import drive\n",
        "drive.mount('/content/drive')"
      ]
    },
    {
      "cell_type": "markdown",
      "metadata": {
        "id": "0Ibk07-Cyekt"
      },
      "source": [
        "**Installing surprise library**"
      ]
    },
    {
      "cell_type": "code",
      "execution_count": 59,
      "metadata": {
        "id": "05HQoiZYlsbB",
        "colab": {
          "base_uri": "https://localhost:8080/"
        },
        "outputId": "401c0bc8-fb43-4692-deae-a0cdeae3a94c"
      },
      "outputs": [
        {
          "output_type": "stream",
          "name": "stdout",
          "text": [
            "Requirement already satisfied: surprise in /usr/local/lib/python3.10/dist-packages (0.1)\n",
            "Requirement already satisfied: scikit-surprise in /usr/local/lib/python3.10/dist-packages (from surprise) (1.1.3)\n",
            "Requirement already satisfied: joblib>=1.0.0 in /usr/local/lib/python3.10/dist-packages (from scikit-surprise->surprise) (1.2.0)\n",
            "Requirement already satisfied: numpy>=1.17.3 in /usr/local/lib/python3.10/dist-packages (from scikit-surprise->surprise) (1.22.4)\n",
            "Requirement already satisfied: scipy>=1.3.2 in /usr/local/lib/python3.10/dist-packages (from scikit-surprise->surprise) (1.10.1)\n"
          ]
        }
      ],
      "source": [
        "!pip install surprise"
      ]
    },
    {
      "cell_type": "markdown",
      "metadata": {
        "id": "7fIt4jcFIm76"
      },
      "source": [
        "## **Importing the necessary libraries and overview of the dataset**"
      ]
    },
    {
      "cell_type": "code",
      "execution_count": 60,
      "metadata": {
        "id": "jzu2P-TT5JtP"
      },
      "outputs": [],
      "source": [
        "# Numerical and DataFrame python libraries\n",
        "import numpy as np\n",
        "import pandas as pd\n",
        "\n",
        "# Python libraries for visualization\n",
        "import matplotlib.pyplot as plt\n",
        "import seaborn as sns\n",
        "\n",
        "# For implementing matrix factorization based recommendation system\n",
        "from surprise.prediction_algorithms.matrix_factorization import SVD\n",
        "from collections import defaultdict\n",
        "\n",
        "# For implementing cross validation\n",
        "from surprise.model_selection import KFold\n",
        "\n",
        "# Importing sklearn.metrics for model evaluation.\n",
        "from sklearn.metrics import (\n",
        "    accuracy_score, precision_score, recall_score, f1_score, mean_squared_error, mean_absolute_error, r2_score\n",
        ")\n",
        "\n",
        "import warnings\n",
        "warnings.filterwarnings('ignore')"
      ]
    },
    {
      "cell_type": "markdown",
      "metadata": {
        "id": "NrXYJAv95JtP"
      },
      "source": [
        "### **Loading the data**\n",
        "- Import the Dataset\n",
        "- Add column names ['user_id', 'prod_id', 'rating', 'timestamp']\n",
        "- Drop the column timestamp\n",
        "- Copy the data to another DataFrame called **df**"
      ]
    },
    {
      "cell_type": "markdown",
      "source": [
        "**Import the Dataset**"
      ],
      "metadata": {
        "id": "aqIoXoCpInXK"
      }
    },
    {
      "cell_type": "code",
      "execution_count": 61,
      "metadata": {
        "id": "JGb-Hk1B5JtP"
      },
      "outputs": [],
      "source": [
        "df=pd.read_csv('/content/Amazon_Product_Recommendation_System/ratings_Electronics.csv')"
      ]
    },
    {
      "cell_type": "code",
      "source": [
        "#first few lines of the dataset to check before adding the column names\n",
        "df.head(10)\n"
      ],
      "metadata": {
        "colab": {
          "base_uri": "https://localhost:8080/",
          "height": 363
        },
        "id": "oSlAeA1MJ6u5",
        "outputId": "e6e534c6-8ea2-406f-a18f-c4872cad0ad4"
      },
      "execution_count": 62,
      "outputs": [
        {
          "output_type": "execute_result",
          "data": {
            "text/plain": [
              "    AKM1MP6P0OYPR  0132793040  5.0  1365811200\n",
              "0  A2CX7LUOHB2NDG  0321732944  5.0  1341100800\n",
              "1  A2NWSAGRHCP8N5  0439886341  1.0  1367193600\n",
              "2  A2WNBOD3WNDNKT  0439886341  3.0  1374451200\n",
              "3  A1GI0U4ZRJA8WN  0439886341  1.0  1334707200\n",
              "4  A1QGNMC6O1VW39  0511189877  5.0  1397433600\n",
              "5  A3J3BRHTDRFJ2G  0511189877  2.0  1397433600\n",
              "6  A2TY0BTJOTENPG  0511189877  5.0  1395878400\n",
              "7  A34ATBPOK6HCHY  0511189877  5.0  1395532800\n",
              "8   A89DO69P0XZ27  0511189877  5.0  1395446400\n",
              "9   AZYNQZ94U6VDB  0511189877  5.0  1401321600"
            ],
            "text/html": [
              "\n",
              "  <div id=\"df-bb6910db-c1cb-4edd-a882-0a3eb91eeeff\">\n",
              "    <div class=\"colab-df-container\">\n",
              "      <div>\n",
              "<style scoped>\n",
              "    .dataframe tbody tr th:only-of-type {\n",
              "        vertical-align: middle;\n",
              "    }\n",
              "\n",
              "    .dataframe tbody tr th {\n",
              "        vertical-align: top;\n",
              "    }\n",
              "\n",
              "    .dataframe thead th {\n",
              "        text-align: right;\n",
              "    }\n",
              "</style>\n",
              "<table border=\"1\" class=\"dataframe\">\n",
              "  <thead>\n",
              "    <tr style=\"text-align: right;\">\n",
              "      <th></th>\n",
              "      <th>AKM1MP6P0OYPR</th>\n",
              "      <th>0132793040</th>\n",
              "      <th>5.0</th>\n",
              "      <th>1365811200</th>\n",
              "    </tr>\n",
              "  </thead>\n",
              "  <tbody>\n",
              "    <tr>\n",
              "      <th>0</th>\n",
              "      <td>A2CX7LUOHB2NDG</td>\n",
              "      <td>0321732944</td>\n",
              "      <td>5.0</td>\n",
              "      <td>1341100800</td>\n",
              "    </tr>\n",
              "    <tr>\n",
              "      <th>1</th>\n",
              "      <td>A2NWSAGRHCP8N5</td>\n",
              "      <td>0439886341</td>\n",
              "      <td>1.0</td>\n",
              "      <td>1367193600</td>\n",
              "    </tr>\n",
              "    <tr>\n",
              "      <th>2</th>\n",
              "      <td>A2WNBOD3WNDNKT</td>\n",
              "      <td>0439886341</td>\n",
              "      <td>3.0</td>\n",
              "      <td>1374451200</td>\n",
              "    </tr>\n",
              "    <tr>\n",
              "      <th>3</th>\n",
              "      <td>A1GI0U4ZRJA8WN</td>\n",
              "      <td>0439886341</td>\n",
              "      <td>1.0</td>\n",
              "      <td>1334707200</td>\n",
              "    </tr>\n",
              "    <tr>\n",
              "      <th>4</th>\n",
              "      <td>A1QGNMC6O1VW39</td>\n",
              "      <td>0511189877</td>\n",
              "      <td>5.0</td>\n",
              "      <td>1397433600</td>\n",
              "    </tr>\n",
              "    <tr>\n",
              "      <th>5</th>\n",
              "      <td>A3J3BRHTDRFJ2G</td>\n",
              "      <td>0511189877</td>\n",
              "      <td>2.0</td>\n",
              "      <td>1397433600</td>\n",
              "    </tr>\n",
              "    <tr>\n",
              "      <th>6</th>\n",
              "      <td>A2TY0BTJOTENPG</td>\n",
              "      <td>0511189877</td>\n",
              "      <td>5.0</td>\n",
              "      <td>1395878400</td>\n",
              "    </tr>\n",
              "    <tr>\n",
              "      <th>7</th>\n",
              "      <td>A34ATBPOK6HCHY</td>\n",
              "      <td>0511189877</td>\n",
              "      <td>5.0</td>\n",
              "      <td>1395532800</td>\n",
              "    </tr>\n",
              "    <tr>\n",
              "      <th>8</th>\n",
              "      <td>A89DO69P0XZ27</td>\n",
              "      <td>0511189877</td>\n",
              "      <td>5.0</td>\n",
              "      <td>1395446400</td>\n",
              "    </tr>\n",
              "    <tr>\n",
              "      <th>9</th>\n",
              "      <td>AZYNQZ94U6VDB</td>\n",
              "      <td>0511189877</td>\n",
              "      <td>5.0</td>\n",
              "      <td>1401321600</td>\n",
              "    </tr>\n",
              "  </tbody>\n",
              "</table>\n",
              "</div>\n",
              "      <button class=\"colab-df-convert\" onclick=\"convertToInteractive('df-bb6910db-c1cb-4edd-a882-0a3eb91eeeff')\"\n",
              "              title=\"Convert this dataframe to an interactive table.\"\n",
              "              style=\"display:none;\">\n",
              "        \n",
              "  <svg xmlns=\"http://www.w3.org/2000/svg\" height=\"24px\"viewBox=\"0 0 24 24\"\n",
              "       width=\"24px\">\n",
              "    <path d=\"M0 0h24v24H0V0z\" fill=\"none\"/>\n",
              "    <path d=\"M18.56 5.44l.94 2.06.94-2.06 2.06-.94-2.06-.94-.94-2.06-.94 2.06-2.06.94zm-11 1L8.5 8.5l.94-2.06 2.06-.94-2.06-.94L8.5 2.5l-.94 2.06-2.06.94zm10 10l.94 2.06.94-2.06 2.06-.94-2.06-.94-.94-2.06-.94 2.06-2.06.94z\"/><path d=\"M17.41 7.96l-1.37-1.37c-.4-.4-.92-.59-1.43-.59-.52 0-1.04.2-1.43.59L10.3 9.45l-7.72 7.72c-.78.78-.78 2.05 0 2.83L4 21.41c.39.39.9.59 1.41.59.51 0 1.02-.2 1.41-.59l7.78-7.78 2.81-2.81c.8-.78.8-2.07 0-2.86zM5.41 20L4 18.59l7.72-7.72 1.47 1.35L5.41 20z\"/>\n",
              "  </svg>\n",
              "      </button>\n",
              "      \n",
              "  <style>\n",
              "    .colab-df-container {\n",
              "      display:flex;\n",
              "      flex-wrap:wrap;\n",
              "      gap: 12px;\n",
              "    }\n",
              "\n",
              "    .colab-df-convert {\n",
              "      background-color: #E8F0FE;\n",
              "      border: none;\n",
              "      border-radius: 50%;\n",
              "      cursor: pointer;\n",
              "      display: none;\n",
              "      fill: #1967D2;\n",
              "      height: 32px;\n",
              "      padding: 0 0 0 0;\n",
              "      width: 32px;\n",
              "    }\n",
              "\n",
              "    .colab-df-convert:hover {\n",
              "      background-color: #E2EBFA;\n",
              "      box-shadow: 0px 1px 2px rgba(60, 64, 67, 0.3), 0px 1px 3px 1px rgba(60, 64, 67, 0.15);\n",
              "      fill: #174EA6;\n",
              "    }\n",
              "\n",
              "    [theme=dark] .colab-df-convert {\n",
              "      background-color: #3B4455;\n",
              "      fill: #D2E3FC;\n",
              "    }\n",
              "\n",
              "    [theme=dark] .colab-df-convert:hover {\n",
              "      background-color: #434B5C;\n",
              "      box-shadow: 0px 1px 3px 1px rgba(0, 0, 0, 0.15);\n",
              "      filter: drop-shadow(0px 1px 2px rgba(0, 0, 0, 0.3));\n",
              "      fill: #FFFFFF;\n",
              "    }\n",
              "  </style>\n",
              "\n",
              "      <script>\n",
              "        const buttonEl =\n",
              "          document.querySelector('#df-bb6910db-c1cb-4edd-a882-0a3eb91eeeff button.colab-df-convert');\n",
              "        buttonEl.style.display =\n",
              "          google.colab.kernel.accessAllowed ? 'block' : 'none';\n",
              "\n",
              "        async function convertToInteractive(key) {\n",
              "          const element = document.querySelector('#df-bb6910db-c1cb-4edd-a882-0a3eb91eeeff');\n",
              "          const dataTable =\n",
              "            await google.colab.kernel.invokeFunction('convertToInteractive',\n",
              "                                                     [key], {});\n",
              "          if (!dataTable) return;\n",
              "\n",
              "          const docLinkHtml = 'Like what you see? Visit the ' +\n",
              "            '<a target=\"_blank\" href=https://colab.research.google.com/notebooks/data_table.ipynb>data table notebook</a>'\n",
              "            + ' to learn more about interactive tables.';\n",
              "          element.innerHTML = '';\n",
              "          dataTable['output_type'] = 'display_data';\n",
              "          await google.colab.output.renderOutput(dataTable, element);\n",
              "          const docLink = document.createElement('div');\n",
              "          docLink.innerHTML = docLinkHtml;\n",
              "          element.appendChild(docLink);\n",
              "        }\n",
              "      </script>\n",
              "    </div>\n",
              "  </div>\n",
              "  "
            ]
          },
          "metadata": {},
          "execution_count": 62
        }
      ]
    },
    {
      "cell_type": "markdown",
      "source": [
        "**Add column names ['user_id', 'prod_id', 'rating', 'timestamp']**"
      ],
      "metadata": {
        "id": "zTklISlvKsE3"
      }
    },
    {
      "cell_type": "code",
      "source": [
        "#Looks like there are no headers , lets add in them in\n",
        "df.columns = ['user_id', 'prod_id', 'rating', 'timestamp']"
      ],
      "metadata": {
        "id": "5rOWsQXuKVXw"
      },
      "execution_count": 63,
      "outputs": []
    },
    {
      "cell_type": "markdown",
      "source": [
        "**Drop the column timestamp**"
      ],
      "metadata": {
        "id": "fWPnv4ryK5Ie"
      }
    },
    {
      "cell_type": "code",
      "source": [
        "#Drop Timestamp as it is not required for this analysis\n",
        "df=df.drop('timestamp',axis= 1)"
      ],
      "metadata": {
        "id": "IG_wwrECKVU3"
      },
      "execution_count": 64,
      "outputs": []
    },
    {
      "cell_type": "markdown",
      "source": [
        "**Copy the data to another DataFrame called df_copy**"
      ],
      "metadata": {
        "id": "0cpXBXvVLds3"
      }
    },
    {
      "cell_type": "code",
      "source": [
        "# Create a copy for referencing , if required\n",
        "df_copy = df.copy"
      ],
      "metadata": {
        "id": "eu7m5dRcKUxn"
      },
      "execution_count": 65,
      "outputs": []
    },
    {
      "cell_type": "code",
      "source": [
        "#lets get a sense of the dataset\n",
        "df.info()\n",
        "\n",
        "# Columns to count unique occurrences\n",
        "columns_to_count = ['user_id', 'prod_id', 'rating']\n",
        "\n",
        "# Count unique occurrences for each column\n",
        "for column in columns_to_count:\n",
        "    unique_counts = df[column].value_counts()\n",
        "    print(f\"Unique counts for {column}:\")\n",
        "    print(unique_counts)\n",
        "    print()"
      ],
      "metadata": {
        "colab": {
          "base_uri": "https://localhost:8080/"
        },
        "id": "pUfJybfwLyNc",
        "outputId": "af1cf69d-e477-419a-b419-07460f9e2794"
      },
      "execution_count": 66,
      "outputs": [
        {
          "output_type": "stream",
          "name": "stdout",
          "text": [
            "<class 'pandas.core.frame.DataFrame'>\n",
            "RangeIndex: 7824481 entries, 0 to 7824480\n",
            "Data columns (total 3 columns):\n",
            " #   Column   Dtype  \n",
            "---  ------   -----  \n",
            " 0   user_id  object \n",
            " 1   prod_id  object \n",
            " 2   rating   float64\n",
            "dtypes: float64(1), object(2)\n",
            "memory usage: 179.1+ MB\n",
            "Unique counts for user_id:\n",
            "A5JLAU2ARJ0BO     520\n",
            "ADLVFFE4VBT8      501\n",
            "A3OXHLG6DIBRW8    498\n",
            "A6FIAB28IS79      431\n",
            "A680RUE1FDO8B     406\n",
            "                 ... \n",
            "A1WBP7XSZI6AUL      1\n",
            "A2K7UNJHE9ZR0G      1\n",
            "A1A6SIW6EWF6FP      1\n",
            "A1JRDVWYUF8W0P      1\n",
            "A10M2KEFPEQDHN      1\n",
            "Name: user_id, Length: 4201696, dtype: int64\n",
            "\n",
            "Unique counts for prod_id:\n",
            "B0074BW614    18244\n",
            "B00DR0PDNE    16454\n",
            "B007WTAJTO    14172\n",
            "B0019EHU8G    12285\n",
            "B006GWO5WK    12226\n",
            "              ...  \n",
            "B004WL91KI        1\n",
            "B004WL9FK4        1\n",
            "B004WL9Q2Q        1\n",
            "B004WL9R8O        1\n",
            "BT008V9J9U        1\n",
            "Name: prod_id, Length: 476001, dtype: int64\n",
            "\n",
            "Unique counts for rating:\n",
            "5.0    4347540\n",
            "4.0    1485781\n",
            "1.0     901765\n",
            "3.0     633073\n",
            "2.0     456322\n",
            "Name: rating, dtype: int64\n",
            "\n"
          ]
        }
      ]
    },
    {
      "cell_type": "markdown",
      "source": [
        "--------------\n",
        "**Observations**\n",
        "--------------\n",
        "--------------\n",
        "- The dataset has a total of 7,824,481 entries.\n",
        "- The dataset has three columns: 'user_id', 'prod_id', and 'rating'.\n",
        "- All three columns have non-null values for all 7,824,481 entries.\n",
        "- The 'user_id' column has 4,201,696 unique values, with 'A5JLAU2ARJ0BO' appearing the most frequently (520 occurrences).\n",
        "- The 'prod_id' column has 476,001 unique values, with 'B0074BW614' appearing the most frequently (18,244 occurrences).\n",
        "- The 'rating' column has five unique values (5.0, 4.0, 1.0, 3.0, and 2.0). The most frequent rating is 5.0, which appears 4,347,540 times.\n",
        "\n",
        "Now, let's discuss the sparse nature of ratings in recommendation systems.\n",
        "\n",
        "In recommendation systems, it is common to encounter sparse data, where most users have not rated most items. This sparsity arises due to the vast number of available items and the limited number of ratings provided by users. In the provided dataset, there are 7,824,481 entries, but there are 4,201,696 unique users and 476,001 unique products (2,000,011,497,696 possible combinations).\n",
        "3.91 * 10^-4 % completion\n"
      ],
      "metadata": {
        "id": "fbkimfeROLdR"
      }
    },
    {
      "cell_type": "markdown",
      "metadata": {
        "id": "OVQnSG5g_9uX"
      },
      "source": [
        "**As this dataset is very large and has 7,824,481 observations, it is not computationally possible to build a model using this. Moreover, many users have only rated a few products and also some products are rated by very few users. Hence, we can reduce the dataset by considering certain logical assumptions.**\n",
        "\n",
        "Here, we will be taking users who have given at least 50 ratings, and the products that have at least 5 ratings, as when we shop online we prefer to have some number of ratings of a product."
      ]
    },
    {
      "cell_type": "code",
      "execution_count": 67,
      "metadata": {
        "id": "4yt9W7Q32EQQ"
      },
      "outputs": [],
      "source": [
        "# Get the column containing the users\n",
        "users = df.user_id\n",
        "\n",
        "# Create a dictionary from users to their number of ratings\n",
        "ratings_count = dict()\n",
        "\n",
        "for user in users:\n",
        "\n",
        "    # If we already have the user, just add 1 to their rating count\n",
        "    if user in ratings_count:\n",
        "        ratings_count[user] += 1\n",
        "\n",
        "    # Otherwise, set their rating count to 1\n",
        "    else:\n",
        "        ratings_count[user] = 1"
      ]
    },
    {
      "cell_type": "code",
      "execution_count": 68,
      "metadata": {
        "id": "19XB60dq2EQR"
      },
      "outputs": [],
      "source": [
        "# We want our users to have at least 50 ratings to be considered\n",
        "RATINGS_CUTOFF = 50\n",
        "\n",
        "remove_users = []\n",
        "\n",
        "for user, num_ratings in ratings_count.items():\n",
        "    if num_ratings < RATINGS_CUTOFF:\n",
        "        remove_users.append(user)\n",
        "\n",
        "df = df.loc[ ~ df.user_id.isin(remove_users)]"
      ]
    },
    {
      "cell_type": "code",
      "execution_count": 69,
      "metadata": {
        "id": "33UzK1D82EQS"
      },
      "outputs": [],
      "source": [
        "# Get the column containing the products\n",
        "prods = df.prod_id\n",
        "\n",
        "# Create a dictionary from products to their number of ratings\n",
        "ratings_count = dict()\n",
        "\n",
        "for prod in prods:\n",
        "\n",
        "    # If we already have the product, just add 1 to its rating count\n",
        "    if prod in ratings_count:\n",
        "        ratings_count[prod] += 1\n",
        "\n",
        "    # Otherwise, set their rating count to 1\n",
        "    else:\n",
        "        ratings_count[prod] = 1"
      ]
    },
    {
      "cell_type": "code",
      "execution_count": 70,
      "metadata": {
        "id": "u6YE-lUp2EQT"
      },
      "outputs": [],
      "source": [
        "# We want our item to have at least 5 ratings to be considered\n",
        "RATINGS_CUTOFF = 5\n",
        "\n",
        "remove_users = []\n",
        "\n",
        "for user, num_ratings in ratings_count.items():\n",
        "    if num_ratings < RATINGS_CUTOFF:\n",
        "        remove_users.append(user)\n",
        "\n",
        "df_final = df.loc[~ df.prod_id.isin(remove_users)]"
      ]
    },
    {
      "cell_type": "code",
      "execution_count": 71,
      "metadata": {
        "id": "aL1JZ00o5JtQ",
        "colab": {
          "base_uri": "https://localhost:8080/",
          "height": 206
        },
        "outputId": "8883eaf8-f229-4c27-9a25-4793ca23b3fc"
      },
      "outputs": [
        {
          "output_type": "execute_result",
          "data": {
            "text/plain": [
              "             user_id     prod_id  rating\n",
              "1309  A3LDPF5FMB782Z  1400501466     5.0\n",
              "1321  A1A5KUIIIHFF4U  1400501466     1.0\n",
              "1334  A2XIOXRRYX0KZY  1400501466     3.0\n",
              "1450   AW3LX47IHPFRL  1400501466     5.0\n",
              "1455  A1E3OB6QMBKRYZ  1400501466     1.0"
            ],
            "text/html": [
              "\n",
              "  <div id=\"df-ac43b9f4-2d31-407d-a9bf-baa239d673d2\">\n",
              "    <div class=\"colab-df-container\">\n",
              "      <div>\n",
              "<style scoped>\n",
              "    .dataframe tbody tr th:only-of-type {\n",
              "        vertical-align: middle;\n",
              "    }\n",
              "\n",
              "    .dataframe tbody tr th {\n",
              "        vertical-align: top;\n",
              "    }\n",
              "\n",
              "    .dataframe thead th {\n",
              "        text-align: right;\n",
              "    }\n",
              "</style>\n",
              "<table border=\"1\" class=\"dataframe\">\n",
              "  <thead>\n",
              "    <tr style=\"text-align: right;\">\n",
              "      <th></th>\n",
              "      <th>user_id</th>\n",
              "      <th>prod_id</th>\n",
              "      <th>rating</th>\n",
              "    </tr>\n",
              "  </thead>\n",
              "  <tbody>\n",
              "    <tr>\n",
              "      <th>1309</th>\n",
              "      <td>A3LDPF5FMB782Z</td>\n",
              "      <td>1400501466</td>\n",
              "      <td>5.0</td>\n",
              "    </tr>\n",
              "    <tr>\n",
              "      <th>1321</th>\n",
              "      <td>A1A5KUIIIHFF4U</td>\n",
              "      <td>1400501466</td>\n",
              "      <td>1.0</td>\n",
              "    </tr>\n",
              "    <tr>\n",
              "      <th>1334</th>\n",
              "      <td>A2XIOXRRYX0KZY</td>\n",
              "      <td>1400501466</td>\n",
              "      <td>3.0</td>\n",
              "    </tr>\n",
              "    <tr>\n",
              "      <th>1450</th>\n",
              "      <td>AW3LX47IHPFRL</td>\n",
              "      <td>1400501466</td>\n",
              "      <td>5.0</td>\n",
              "    </tr>\n",
              "    <tr>\n",
              "      <th>1455</th>\n",
              "      <td>A1E3OB6QMBKRYZ</td>\n",
              "      <td>1400501466</td>\n",
              "      <td>1.0</td>\n",
              "    </tr>\n",
              "  </tbody>\n",
              "</table>\n",
              "</div>\n",
              "      <button class=\"colab-df-convert\" onclick=\"convertToInteractive('df-ac43b9f4-2d31-407d-a9bf-baa239d673d2')\"\n",
              "              title=\"Convert this dataframe to an interactive table.\"\n",
              "              style=\"display:none;\">\n",
              "        \n",
              "  <svg xmlns=\"http://www.w3.org/2000/svg\" height=\"24px\"viewBox=\"0 0 24 24\"\n",
              "       width=\"24px\">\n",
              "    <path d=\"M0 0h24v24H0V0z\" fill=\"none\"/>\n",
              "    <path d=\"M18.56 5.44l.94 2.06.94-2.06 2.06-.94-2.06-.94-.94-2.06-.94 2.06-2.06.94zm-11 1L8.5 8.5l.94-2.06 2.06-.94-2.06-.94L8.5 2.5l-.94 2.06-2.06.94zm10 10l.94 2.06.94-2.06 2.06-.94-2.06-.94-.94-2.06-.94 2.06-2.06.94z\"/><path d=\"M17.41 7.96l-1.37-1.37c-.4-.4-.92-.59-1.43-.59-.52 0-1.04.2-1.43.59L10.3 9.45l-7.72 7.72c-.78.78-.78 2.05 0 2.83L4 21.41c.39.39.9.59 1.41.59.51 0 1.02-.2 1.41-.59l7.78-7.78 2.81-2.81c.8-.78.8-2.07 0-2.86zM5.41 20L4 18.59l7.72-7.72 1.47 1.35L5.41 20z\"/>\n",
              "  </svg>\n",
              "      </button>\n",
              "      \n",
              "  <style>\n",
              "    .colab-df-container {\n",
              "      display:flex;\n",
              "      flex-wrap:wrap;\n",
              "      gap: 12px;\n",
              "    }\n",
              "\n",
              "    .colab-df-convert {\n",
              "      background-color: #E8F0FE;\n",
              "      border: none;\n",
              "      border-radius: 50%;\n",
              "      cursor: pointer;\n",
              "      display: none;\n",
              "      fill: #1967D2;\n",
              "      height: 32px;\n",
              "      padding: 0 0 0 0;\n",
              "      width: 32px;\n",
              "    }\n",
              "\n",
              "    .colab-df-convert:hover {\n",
              "      background-color: #E2EBFA;\n",
              "      box-shadow: 0px 1px 2px rgba(60, 64, 67, 0.3), 0px 1px 3px 1px rgba(60, 64, 67, 0.15);\n",
              "      fill: #174EA6;\n",
              "    }\n",
              "\n",
              "    [theme=dark] .colab-df-convert {\n",
              "      background-color: #3B4455;\n",
              "      fill: #D2E3FC;\n",
              "    }\n",
              "\n",
              "    [theme=dark] .colab-df-convert:hover {\n",
              "      background-color: #434B5C;\n",
              "      box-shadow: 0px 1px 3px 1px rgba(0, 0, 0, 0.15);\n",
              "      filter: drop-shadow(0px 1px 2px rgba(0, 0, 0, 0.3));\n",
              "      fill: #FFFFFF;\n",
              "    }\n",
              "  </style>\n",
              "\n",
              "      <script>\n",
              "        const buttonEl =\n",
              "          document.querySelector('#df-ac43b9f4-2d31-407d-a9bf-baa239d673d2 button.colab-df-convert');\n",
              "        buttonEl.style.display =\n",
              "          google.colab.kernel.accessAllowed ? 'block' : 'none';\n",
              "\n",
              "        async function convertToInteractive(key) {\n",
              "          const element = document.querySelector('#df-ac43b9f4-2d31-407d-a9bf-baa239d673d2');\n",
              "          const dataTable =\n",
              "            await google.colab.kernel.invokeFunction('convertToInteractive',\n",
              "                                                     [key], {});\n",
              "          if (!dataTable) return;\n",
              "\n",
              "          const docLinkHtml = 'Like what you see? Visit the ' +\n",
              "            '<a target=\"_blank\" href=https://colab.research.google.com/notebooks/data_table.ipynb>data table notebook</a>'\n",
              "            + ' to learn more about interactive tables.';\n",
              "          element.innerHTML = '';\n",
              "          dataTable['output_type'] = 'display_data';\n",
              "          await google.colab.output.renderOutput(dataTable, element);\n",
              "          const docLink = document.createElement('div');\n",
              "          docLink.innerHTML = docLinkHtml;\n",
              "          element.appendChild(docLink);\n",
              "        }\n",
              "      </script>\n",
              "    </div>\n",
              "  </div>\n",
              "  "
            ]
          },
          "metadata": {},
          "execution_count": 71
        }
      ],
      "source": [
        "# Print a few rows of the imported dataset\n",
        "df_final.head()"
      ]
    },
    {
      "cell_type": "markdown",
      "metadata": {
        "id": "GuPoy_XfxhXZ"
      },
      "source": [
        "## **Exploratory Data Analysis**"
      ]
    },
    {
      "cell_type": "markdown",
      "metadata": {
        "id": "s0d0bWeG-sVB"
      },
      "source": [
        "### **Shape of the data**"
      ]
    },
    {
      "cell_type": "markdown",
      "metadata": {
        "id": "qyBVTRDTyek0"
      },
      "source": [
        "### **Check the number of rows and columns and provide observations.**"
      ]
    },
    {
      "cell_type": "code",
      "execution_count": 72,
      "metadata": {
        "id": "fJ4eQKaY5JtQ",
        "colab": {
          "base_uri": "https://localhost:8080/"
        },
        "outputId": "f95e96ff-67a9-4a34-dc9c-745932d6c4c1"
      },
      "outputs": [
        {
          "output_type": "stream",
          "name": "stdout",
          "text": [
            "The DataFrame has 65290 rows and 3 columns.\n"
          ]
        }
      ],
      "source": [
        "# Check the number of rows and columns and provide observations\n",
        "#Unpacking df_final.shape to appropriate labels\n",
        "rows, columns = df_final.shape\n",
        "print(f\"The DataFrame has {rows} rows and {columns} columns.\")"
      ]
    },
    {
      "cell_type": "markdown",
      "metadata": {
        "id": "Slp-fgWQ-sVD"
      },
      "source": [
        "**The DataFrame has 65290 rows and 3 columns.**"
      ]
    },
    {
      "cell_type": "markdown",
      "metadata": {
        "id": "lAMWm0nC-sVF"
      },
      "source": [
        "### **Data types**"
      ]
    },
    {
      "cell_type": "code",
      "execution_count": 73,
      "metadata": {
        "id": "SVrgMkye5JtQ",
        "colab": {
          "base_uri": "https://localhost:8080/"
        },
        "outputId": "a7285384-84b8-48f3-95ed-7baaadb90da3"
      },
      "outputs": [
        {
          "output_type": "stream",
          "name": "stdout",
          "text": [
            "<class 'pandas.core.frame.DataFrame'>\n",
            "Int64Index: 65290 entries, 1309 to 7824426\n",
            "Data columns (total 3 columns):\n",
            " #   Column   Non-Null Count  Dtype  \n",
            "---  ------   --------------  -----  \n",
            " 0   user_id  65290 non-null  object \n",
            " 1   prod_id  65290 non-null  object \n",
            " 2   rating   65290 non-null  float64\n",
            "dtypes: float64(1), object(2)\n",
            "memory usage: 2.0+ MB\n",
            "Unique counts for user_id:\n",
            "ADLVFFE4VBT8      295\n",
            "A3OXHLG6DIBRW8    230\n",
            "A1ODOGXEYECQQ8    217\n",
            "A36K2N527TXXJN    212\n",
            "A25C2M3QF9G7OQ    203\n",
            "                 ... \n",
            "A16CVJUQOB6GIB      2\n",
            "A2BGZ52M908MJY      2\n",
            "A3DL29NLZ7SXXG      1\n",
            "AP2NZAALUQKF5       1\n",
            "A3MV1KKHX51FYT      1\n",
            "Name: user_id, Length: 1540, dtype: int64\n",
            "Normalized count for user_id:\n",
            "ADLVFFE4VBT8      0.004518\n",
            "A3OXHLG6DIBRW8    0.003523\n",
            "A1ODOGXEYECQQ8    0.003324\n",
            "A36K2N527TXXJN    0.003247\n",
            "A25C2M3QF9G7OQ    0.003109\n",
            "                    ...   \n",
            "A16CVJUQOB6GIB    0.000031\n",
            "A2BGZ52M908MJY    0.000031\n",
            "A3DL29NLZ7SXXG    0.000015\n",
            "AP2NZAALUQKF5     0.000015\n",
            "A3MV1KKHX51FYT    0.000015\n",
            "Name: user_id, Length: 1540, dtype: float64\n",
            "\n",
            "Unique counts for prod_id:\n",
            "B0088CJT4U    206\n",
            "B003ES5ZUU    184\n",
            "B000N99BBC    167\n",
            "B007WTAJTO    164\n",
            "B00829TIEK    149\n",
            "             ... \n",
            "B00368CDH6      5\n",
            "B0036AZA6A      5\n",
            "B0036E8V08      5\n",
            "B0036QL1JY      5\n",
            "B00LGQ6HL8      5\n",
            "Name: prod_id, Length: 5689, dtype: int64\n",
            "Normalized count for prod_id:\n",
            "B0088CJT4U    0.003155\n",
            "B003ES5ZUU    0.002818\n",
            "B000N99BBC    0.002558\n",
            "B007WTAJTO    0.002512\n",
            "B00829TIEK    0.002282\n",
            "                ...   \n",
            "B00368CDH6    0.000077\n",
            "B0036AZA6A    0.000077\n",
            "B0036E8V08    0.000077\n",
            "B0036QL1JY    0.000077\n",
            "B00LGQ6HL8    0.000077\n",
            "Name: prod_id, Length: 5689, dtype: float64\n",
            "\n",
            "Unique counts for rating:\n",
            "5.0    36315\n",
            "4.0    18127\n",
            "3.0     6481\n",
            "2.0     2515\n",
            "1.0     1852\n",
            "Name: rating, dtype: int64\n",
            "Normalized count for rating:\n",
            "5.0    0.556211\n",
            "4.0    0.277638\n",
            "3.0    0.099265\n",
            "2.0    0.038520\n",
            "1.0    0.028366\n",
            "Name: rating, dtype: float64\n",
            "\n"
          ]
        }
      ],
      "source": [
        "# Check Data types and provide observations\n",
        "#lets get a sense of the final dataset\n",
        "df_final.info()\n",
        "\n",
        "# Columns to count unique occurrences\n",
        "columns_to_count = ['user_id', 'prod_id', 'rating']\n",
        "\n",
        "#Count and normalised count\n",
        "for column in columns_to_count:\n",
        "    unique_counts = df_final[column].value_counts()\n",
        "    total_rows = df_final.shape[0]\n",
        "    normalized_count = unique_counts / total_rows\n",
        "\n",
        "    print(f\"Unique counts for {column}:\")\n",
        "    print(unique_counts)\n",
        "    print(f\"Normalized count for {column}:\")\n",
        "    print(normalized_count)\n",
        "    print()"
      ]
    },
    {
      "cell_type": "markdown",
      "metadata": {
        "id": "z4fOE02D-sVF"
      },
      "source": [
        "--------------\n",
        "**Observations**\n",
        "--------------\n",
        "--------------\n",
        "- The df_final reduced dataset has a total of 65,290 entries.\n",
        "- The dataset has three columns: 'user_id', 'prod_id', and 'rating'.\n",
        "- All three columns have non-null values for all 65,290 entries.\n",
        "- The 'user_id' column has 1,540 unique values, with 'ADLVFFE4VBT8' appearing the most frequently (295 occurrences).\n",
        "- The normalized count (frequency) for the 'user_id' column shows that 'ADLVFFE4VBT8' accounts for approximately 0.45% of the total entries.\n",
        "- The 'prod_id' column has 5,689 unique values, with 'B0088CJT4U' appearing the most frequently (206 occurrences).\n",
        "- The normalized count (frequency) for the 'prod_id' column shows that 'B0088CJT4U' accounts for approximately 0.32% of the total entries.\n",
        "- The 'rating' column has five unique values (5.0, 4.0, 3.0, 2.0, and 1.0). The most frequent rating is 5.0, which appears 36,315 times.\n",
        "- The normalized count (frequency) for the 'rating' column shows that 55.6% of the ratings are 5.0, followed by 27.8% for 4.0, 9.9% for 3.0, 3.9% for 2.0, and 2.8% for 1.0. Seems like most data is skewed in favour of higher ratings. We can confirm this fact in further EDA."
      ]
    },
    {
      "cell_type": "markdown",
      "metadata": {
        "id": "lTMpOROT-sVG"
      },
      "source": [
        "### **Checking for missing values**"
      ]
    },
    {
      "cell_type": "code",
      "execution_count": 74,
      "metadata": {
        "id": "vt-VEjMA5JtQ",
        "colab": {
          "base_uri": "https://localhost:8080/"
        },
        "outputId": "bb5b1780-1f05-45c8-b014-6296921b9670"
      },
      "outputs": [
        {
          "output_type": "execute_result",
          "data": {
            "text/plain": [
              "user_id    0\n",
              "prod_id    0\n",
              "rating     0\n",
              "dtype: int64"
            ]
          },
          "metadata": {},
          "execution_count": 74
        }
      ],
      "source": [
        "# Check for missing values present and provide observations\n",
        "df_final.isnull().sum()"
      ]
    },
    {
      "cell_type": "markdown",
      "metadata": {
        "id": "qMWuBNhI5JtR"
      },
      "source": [
        "**No Missing Value**"
      ]
    },
    {
      "cell_type": "markdown",
      "metadata": {
        "id": "wETrCg48-sVG"
      },
      "source": [
        "### **Summary Statistics**"
      ]
    },
    {
      "cell_type": "code",
      "execution_count": 75,
      "metadata": {
        "id": "tYm30MXR5JtR",
        "colab": {
          "base_uri": "https://localhost:8080/"
        },
        "outputId": "966da179-0b96-4c9b-c3a7-0330ec3273b2"
      },
      "outputs": [
        {
          "output_type": "execute_result",
          "data": {
            "text/plain": [
              "count    65290.000000\n",
              "mean         4.294808\n",
              "std          0.988915\n",
              "min          1.000000\n",
              "25%          4.000000\n",
              "50%          5.000000\n",
              "75%          5.000000\n",
              "max          5.000000\n",
              "Name: rating, dtype: float64"
            ]
          },
          "metadata": {},
          "execution_count": 75
        }
      ],
      "source": [
        "# Summary statistics of 'rating' variable and provide observations\n",
        "df_final['rating'].describe().T"
      ]
    },
    {
      "cell_type": "markdown",
      "metadata": {
        "id": "VqW50EIJxhXc"
      },
      "source": [
        "**Observation**\n",
        "\n",
        "- The average rating given by users for products is approximately 4.29, indicating that users generally provide positive / higher ratings. We must also be aware that the ratings are actually classes, but do also hold ordinal information.\n",
        "- The standard deviation of the ratings is around 0.99, suggesting a moderate amount of variability in the ratings.\n",
        "- The minimum rating given by a user is 1, indicating that some users have given low ratings to certain products.\n",
        "- The 25th percentile rating is 4, indicating that only 25% of the ratings fall below or equal to 4.\n",
        "- The median rating (50th percentile) is 5, suggesting that half of the ratings are 5 or below.\n",
        "- The 75th percentile rating is 5, indicating that 75% of the ratings fall below or equal to 5.\n",
        "- The maximum rating given by a user is 5, implying that some users have given the highest rating to certain products.\n",
        "\n",
        "Overall, the ratings in the `df_final` DataFrame show a positive skew, with a majority of ratings being high (4 or 5). However, there is some variability in the ratings, with a small portion of users providing lower ratings as well. Lets the visualize these observations\n"
      ]
    },
    {
      "cell_type": "markdown",
      "metadata": {
        "id": "ywyFrZIf5JtR"
      },
      "source": [
        "### **Checking the rating distribution**"
      ]
    },
    {
      "cell_type": "code",
      "execution_count": 76,
      "metadata": {
        "id": "QbqhbEVe-sVH",
        "colab": {
          "base_uri": "https://localhost:8080/",
          "height": 607
        },
        "outputId": "ec910d30-5548-4c6a-8ec9-b6730c3c82a6"
      },
      "outputs": [
        {
          "output_type": "display_data",
          "data": {
            "text/plain": [
              "<Figure size 1200x600 with 2 Axes>"
            ],
            "image/png": "[encoded data removed]"
          },
          "metadata": {}
        }
      ],
      "source": [
        "import seaborn as sns\n",
        "import matplotlib.pyplot as plt\n",
        "\n",
        "# Count the frequency of each rating\n",
        "rating_counts = df_final['rating'].value_counts().sort_index()\n",
        "\n",
        "# Create the figure and axes for subplots\n",
        "fig, axes = plt.subplots(1, 2, figsize=(12, 6))\n",
        "\n",
        "# Plot the bar plot in the first subplot using seaborn\n",
        "sns.barplot(x=rating_counts.index, y=rating_counts.values, ax=axes[0])\n",
        "axes[0].set_title('Rating Distribution')\n",
        "axes[0].set_xlabel('Rating')\n",
        "axes[0].set_ylabel('Count')\n",
        "\n",
        "# Add data labels to the bar plot\n",
        "for i, count in enumerate(rating_counts.values):\n",
        "    axes[0].text(i, count, str(count), ha='center', va='bottom')\n",
        "\n",
        "# Plot the pie chart in the second subplot\n",
        "rating_labels = rating_counts.index.astype(str)\n",
        "axes[1].pie(rating_counts.values, labels=rating_labels, autopct='%1.1f%%')\n",
        "axes[1].set_title('Rating Distribution')\n",
        "\n",
        "# Adjust the spacing between subplots\n",
        "plt.tight_layout()\n",
        "\n",
        "# Show the plot\n",
        "plt.show()\n",
        "\n"
      ]
    },
    {
      "cell_type": "markdown",
      "metadata": {
        "id": "t0jONrQv-sVH"
      },
      "source": [
        "---------------\n",
        "**Observation**\n",
        "---------------\n",
        "---------------\n",
        "- As mentioned before. The 'rating' column has five unique values (5.0, 4.0, 3.0, 2.0, and 1.0). The most frequent rating is 5.0, which appears 36,315 times.\n",
        "- The normalized count (frequency) for the 'rating' column shows that 55.6% of the ratings are 5.0, followed by 27.8% for 4.0, 9.9% for 3.0, 3.9% for 2.0, and 2.8% for 1.0. we have confirmed data is skewed in favour of higher ratings"
      ]
    },
    {
      "cell_type": "markdown",
      "metadata": {
        "id": "HefpLdLJxhXd"
      },
      "source": [
        "### **Checking the number of unique users and items in the dataset**"
      ]
    },
    {
      "cell_type": "code",
      "execution_count": 77,
      "metadata": {
        "id": "NbSom7195JtR",
        "colab": {
          "base_uri": "https://localhost:8080/"
        },
        "outputId": "dca40b1f-f604-45c4-b9d1-88dd4e691d52"
      },
      "outputs": [
        {
          "output_type": "stream",
          "name": "stdout",
          "text": [
            "Number of total rows in the data: 65290\n",
            "Number of unique user IDs in the data: 1540\n",
            "Number of unique product IDs in the data: 5689\n"
          ]
        }
      ],
      "source": [
        "# Number of total rows in the data and number of unique user id and product id in the data\n",
        "\n",
        "# Number of total rows in the data\n",
        "total_rows = df_final.shape[0]\n",
        "print(\"Number of total rows in the data:\", total_rows)\n",
        "\n",
        "# Number of unique user IDs in the data\n",
        "unique_user_ids = df_final['user_id'].nunique()\n",
        "print(\"Number of unique user IDs in the data:\", unique_user_ids)\n",
        "\n",
        "# Number of unique product IDs in the data\n",
        "unique_product_ids = df_final['prod_id'].nunique()\n",
        "print(\"Number of unique product IDs in the data:\", unique_product_ids)\n"
      ]
    },
    {
      "cell_type": "markdown",
      "metadata": {
        "id": "Qwgz6CUt-sVI"
      },
      "source": [
        "**Observations**\n",
        "\n",
        "- Number of total rows in the data: 65290\n",
        "\n",
        "- Number of unique user IDs in the data: 1540\n",
        "\n",
        "- Number of unique product IDs in the data: 5689"
      ]
    },
    {
      "cell_type": "markdown",
      "metadata": {
        "id": "RfDnhSS4-sVI"
      },
      "source": [
        "### **Users with the most number of ratings**"
      ]
    },
    {
      "cell_type": "code",
      "execution_count": 78,
      "metadata": {
        "id": "n7MX452q5JtR",
        "colab": {
          "base_uri": "https://localhost:8080/"
        },
        "outputId": "c5066df0-0822-462c-b9cc-f67d7a9eb8cc"
      },
      "outputs": [
        {
          "output_type": "stream",
          "name": "stdout",
          "text": [
            "Top 10 users based on the number of ratings:\n",
            "ADLVFFE4VBT8      295\n",
            "A3OXHLG6DIBRW8    230\n",
            "A1ODOGXEYECQQ8    217\n",
            "A36K2N527TXXJN    212\n",
            "A25C2M3QF9G7OQ    203\n",
            "A680RUE1FDO8B     196\n",
            "A1UQBFCERIP7VJ    193\n",
            "A22CW0ZHY3NJH8    193\n",
            "AWPODHOB4GFWL     184\n",
            "AGVWTYW0ULXHT     179\n",
            "Name: user_id, dtype: int64\n",
            "Percentage of total ratings captured by the top 10 users: 3.22%\n"
          ]
        }
      ],
      "source": [
        "# Top 10 users based on the number of ratings\n",
        "# Get the count of ratings for each user\n",
        "user_rating_counts = df_final['user_id'].value_counts()\n",
        "\n",
        "# Get the top 10 users based on ratings\n",
        "top_10_users = user_rating_counts.head(10)\n",
        "\n",
        "# Print the top 10 users\n",
        "print(\"Top 10 users based on the number of ratings:\")\n",
        "print(top_10_users)\n",
        "\n",
        "\n",
        "# Calculate the total number of ratings\n",
        "total_ratings = df_final.shape[0]\n",
        "\n",
        "# Calculate the number of ratings by the top 10 users\n",
        "top_10_ratings = top_10_users.sum()\n",
        "\n",
        "# Calculate the percentage of total ratings captured by the top 10 users\n",
        "percentage = (top_10_ratings / total_ratings) * 100\n",
        "\n",
        "# Print the percentage\n",
        "print(\"Percentage of total ratings captured by the top 10 users: {:.2f}%\".format(percentage))\n"
      ]
    },
    {
      "cell_type": "markdown",
      "metadata": {
        "id": "1X2w_jt9-sVI"
      },
      "source": [
        "--------------------\n",
        "**Observations**\n",
        "--------------------\n",
        "--------------------\n",
        "Top 10 users based on the number of ratings:\n",
        "\n",
        "|     User ID     | Count |\n",
        "|:--------------:|:------:|\n",
        "| ADLVFFE4VBT8 | 295 |\n",
        "| A3OXHLG6DIBRW8 | 230 |\n",
        "| A1ODOGXEYECQQ8 | 217 |\n",
        "| A36K2N527TXXJN | 212 |\n",
        "| A25C2M3QF9G7OQ | 203 |\n",
        "| A680RUE1FDO8B | 196 |\n",
        "| A1UQBFCERIP7VJ | 193 |\n",
        "| A22CW0ZHY3NJH8 | 193 |\n",
        "| AWPODHOB4GFWL | 184 |\n",
        "| AGVWTYW0ULXHT | 179 |\n",
        "\n",
        "\n",
        "\n",
        "**Percentage of total ratings captured by the top 10 users: 3.22%**\n",
        "\n",
        "**Highest Ratings Count : 295**\n",
        "\n",
        "**Number of unique product IDs in the data: 5689**\n",
        "\n",
        "**Even the Highest 'rater' has only rated 5.18% of products and hence even the highest rater needs rating for aroung 95% of the products**"
      ]
    },
    {
      "cell_type": "markdown",
      "metadata": {
        "id": "EnYTx-Ol-sVg"
      },
      "source": [
        "**Now that we have explored and prepared the data, let's build the first recommendation system.**"
      ]
    },
    {
      "cell_type": "markdown",
      "metadata": {
        "id": "6xYGrGVy5JtS"
      },
      "source": [
        "## **Model 1: Rank Based Recommendation System**"
      ]
    },
    {
      "cell_type": "code",
      "execution_count": 79,
      "metadata": {
        "id": "yxZTj1UPxhXh",
        "scrolled": true,
        "colab": {
          "base_uri": "https://localhost:8080/",
          "height": 238
        },
        "outputId": "5a95197a-883d-4a4b-a7c9-4266d0763925"
      },
      "outputs": [
        {
          "output_type": "execute_result",
          "data": {
            "text/plain": [
              "            Average Rating  Rating Count\n",
              "prod_id                                 \n",
              "B00LGQ6HL8             5.0             5\n",
              "B003DZJQQI             5.0            14\n",
              "B005FDXF2C             5.0             7\n",
              "B00I6CVPVC             5.0             7\n",
              "B00B9KOCYA             5.0             8"
            ],
            "text/html": [
              "\n",
              "  <div id=\"df-298420f5-54e4-4d0e-9f83-c153ee18b556\">\n",
              "    <div class=\"colab-df-container\">\n",
              "      <div>\n",
              "<style scoped>\n",
              "    .dataframe tbody tr th:only-of-type {\n",
              "        vertical-align: middle;\n",
              "    }\n",
              "\n",
              "    .dataframe tbody tr th {\n",
              "        vertical-align: top;\n",
              "    }\n",
              "\n",
              "    .dataframe thead th {\n",
              "        text-align: right;\n",
              "    }\n",
              "</style>\n",
              "<table border=\"1\" class=\"dataframe\">\n",
              "  <thead>\n",
              "    <tr style=\"text-align: right;\">\n",
              "      <th></th>\n",
              "      <th>Average Rating</th>\n",
              "      <th>Rating Count</th>\n",
              "    </tr>\n",
              "    <tr>\n",
              "      <th>prod_id</th>\n",
              "      <th></th>\n",
              "      <th></th>\n",
              "    </tr>\n",
              "  </thead>\n",
              "  <tbody>\n",
              "    <tr>\n",
              "      <th>B00LGQ6HL8</th>\n",
              "      <td>5.0</td>\n",
              "      <td>5</td>\n",
              "    </tr>\n",
              "    <tr>\n",
              "      <th>B003DZJQQI</th>\n",
              "      <td>5.0</td>\n",
              "      <td>14</td>\n",
              "    </tr>\n",
              "    <tr>\n",
              "      <th>B005FDXF2C</th>\n",
              "      <td>5.0</td>\n",
              "      <td>7</td>\n",
              "    </tr>\n",
              "    <tr>\n",
              "      <th>B00I6CVPVC</th>\n",
              "      <td>5.0</td>\n",
              "      <td>7</td>\n",
              "    </tr>\n",
              "    <tr>\n",
              "      <th>B00B9KOCYA</th>\n",
              "      <td>5.0</td>\n",
              "      <td>8</td>\n",
              "    </tr>\n",
              "  </tbody>\n",
              "</table>\n",
              "</div>\n",
              "      <button class=\"colab-df-convert\" onclick=\"convertToInteractive('df-298420f5-54e4-4d0e-9f83-c153ee18b556')\"\n",
              "              title=\"Convert this dataframe to an interactive table.\"\n",
              "              style=\"display:none;\">\n",
              "        \n",
              "  <svg xmlns=\"http://www.w3.org/2000/svg\" height=\"24px\"viewBox=\"0 0 24 24\"\n",
              "       width=\"24px\">\n",
              "    <path d=\"M0 0h24v24H0V0z\" fill=\"none\"/>\n",
              "    <path d=\"M18.56 5.44l.94 2.06.94-2.06 2.06-.94-2.06-.94-.94-2.06-.94 2.06-2.06.94zm-11 1L8.5 8.5l.94-2.06 2.06-.94-2.06-.94L8.5 2.5l-.94 2.06-2.06.94zm10 10l.94 2.06.94-2.06 2.06-.94-2.06-.94-.94-2.06-.94 2.06-2.06.94z\"/><path d=\"M17.41 7.96l-1.37-1.37c-.4-.4-.92-.59-1.43-.59-.52 0-1.04.2-1.43.59L10.3 9.45l-7.72 7.72c-.78.78-.78 2.05 0 2.83L4 21.41c.39.39.9.59 1.41.59.51 0 1.02-.2 1.41-.59l7.78-7.78 2.81-2.81c.8-.78.8-2.07 0-2.86zM5.41 20L4 18.59l7.72-7.72 1.47 1.35L5.41 20z\"/>\n",
              "  </svg>\n",
              "      </button>\n",
              "      \n",
              "  <style>\n",
              "    .colab-df-container {\n",
              "      display:flex;\n",
              "      flex-wrap:wrap;\n",
              "      gap: 12px;\n",
              "    }\n",
              "\n",
              "    .colab-df-convert {\n",
              "      background-color: #E8F0FE;\n",
              "      border: none;\n",
              "      border-radius: 50%;\n",
              "      cursor: pointer;\n",
              "      display: none;\n",
              "      fill: #1967D2;\n",
              "      height: 32px;\n",
              "      padding: 0 0 0 0;\n",
              "      width: 32px;\n",
              "    }\n",
              "\n",
              "    .colab-df-convert:hover {\n",
              "      background-color: #E2EBFA;\n",
              "      box-shadow: 0px 1px 2px rgba(60, 64, 67, 0.3), 0px 1px 3px 1px rgba(60, 64, 67, 0.15);\n",
              "      fill: #174EA6;\n",
              "    }\n",
              "\n",
              "    [theme=dark] .colab-df-convert {\n",
              "      background-color: #3B4455;\n",
              "      fill: #D2E3FC;\n",
              "    }\n",
              "\n",
              "    [theme=dark] .colab-df-convert:hover {\n",
              "      background-color: #434B5C;\n",
              "      box-shadow: 0px 1px 3px 1px rgba(0, 0, 0, 0.15);\n",
              "      filter: drop-shadow(0px 1px 2px rgba(0, 0, 0, 0.3));\n",
              "      fill: #FFFFFF;\n",
              "    }\n",
              "  </style>\n",
              "\n",
              "      <script>\n",
              "        const buttonEl =\n",
              "          document.querySelector('#df-298420f5-54e4-4d0e-9f83-c153ee18b556 button.colab-df-convert');\n",
              "        buttonEl.style.display =\n",
              "          google.colab.kernel.accessAllowed ? 'block' : 'none';\n",
              "\n",
              "        async function convertToInteractive(key) {\n",
              "          const element = document.querySelector('#df-298420f5-54e4-4d0e-9f83-c153ee18b556');\n",
              "          const dataTable =\n",
              "            await google.colab.kernel.invokeFunction('convertToInteractive',\n",
              "                                                     [key], {});\n",
              "          if (!dataTable) return;\n",
              "\n",
              "          const docLinkHtml = 'Like what you see? Visit the ' +\n",
              "            '<a target=\"_blank\" href=https://colab.research.google.com/notebooks/data_table.ipynb>data table notebook</a>'\n",
              "            + ' to learn more about interactive tables.';\n",
              "          element.innerHTML = '';\n",
              "          dataTable['output_type'] = 'display_data';\n",
              "          await google.colab.output.renderOutput(dataTable, element);\n",
              "          const docLink = document.createElement('div');\n",
              "          docLink.innerHTML = docLinkHtml;\n",
              "          element.appendChild(docLink);\n",
              "        }\n",
              "      </script>\n",
              "    </div>\n",
              "  </div>\n",
              "  "
            ]
          },
          "metadata": {},
          "execution_count": 79
        }
      ],
      "source": [
        "# Calculate the average rating for each product\n",
        "product_avg_rating = df_final.groupby('prod_id')['rating'].mean()\n",
        "\n",
        "# Calculate the count of ratings for each product\n",
        "product_rating_count = df_final.groupby('prod_id')['rating'].count()\n",
        "\n",
        "\n",
        "# Create a dataframe with calculated average and count of ratings\n",
        "final_rating = pd.DataFrame({'Average Rating': product_avg_rating, 'Rating Count': product_rating_count})\n",
        "\n",
        "\n",
        "# Sort the dataframe by average of ratings in the descending order\n",
        "final_rating = final_rating.sort_values('Average Rating', ascending=False)\n",
        "\n",
        "# See the first five records of the \"final_rating\" dataset\n",
        "final_rating.head()"
      ]
    },
    {
      "cell_type": "code",
      "execution_count": 80,
      "metadata": {
        "id": "zKU__5s1xhXi"
      },
      "outputs": [],
      "source": [
        "# Defining a function to get the top n products based on the highest average rating and minimum interactions\n",
        "def top_products(df, n, min_interactions):\n",
        "\n",
        "  # Finding products with minimum number of interactions\n",
        "  filtered= df[df['Rating Count']>=min_interactions]\n",
        "\n",
        "  # Sorting values with respect to average rating\n",
        "  sorted = filtered.sort_values('Average Rating', ascending= False)\n",
        "\n",
        "  #Top N Items\n",
        "  top_n_products = sorted.head(n)\n",
        "  return top_n_products\n",
        "\n"
      ]
    },
    {
      "cell_type": "markdown",
      "metadata": {
        "id": "F8l6373PxhXi"
      },
      "source": [
        "### **Recommending top 5 products with 50 minimum interactions based on popularity**"
      ]
    },
    {
      "cell_type": "code",
      "execution_count": 81,
      "metadata": {
        "id": "dBxdLiM_xhXi",
        "colab": {
          "base_uri": "https://localhost:8080/"
        },
        "outputId": "26ba5556-f2c6-4d65-8b97-1c21e0f1ffa0"
      },
      "outputs": [
        {
          "output_type": "stream",
          "name": "stdout",
          "text": [
            "Top 5 products based on highest average rating and minimum interactions of 50:             Average Rating  Rating Count\n",
            "prod_id                                 \n",
            "B001TH7GUU        4.871795            78\n",
            "B003ES5ZUU        4.864130           184\n",
            "B0019EHU8G        4.855556            90\n",
            "B006W8U2MU        4.824561            57\n",
            "B000QUUFRW        4.809524            84\n"
          ]
        }
      ],
      "source": [
        "# df = final_rating\n",
        "# n = 5\n",
        "# min_interactions = 50\n",
        "\n",
        "top_products_50 = top_products(final_rating,5,50)\n",
        "\n",
        "print(\"Top 5 products based on highest average rating and minimum interactions of 50:\" , top_products_50)"
      ]
    },
    {
      "cell_type": "markdown",
      "metadata": {
        "id": "l9_xW_UMxhXj"
      },
      "source": [
        "### **Recommending top 5 products with 100 minimum interactions based on popularity**"
      ]
    },
    {
      "cell_type": "code",
      "execution_count": 82,
      "metadata": {
        "id": "dZgGZCUoxhXj",
        "colab": {
          "base_uri": "https://localhost:8080/"
        },
        "outputId": "c583e8e8-92d1-433d-cd5d-b29c15644b85"
      },
      "outputs": [
        {
          "output_type": "stream",
          "name": "stdout",
          "text": [
            "Top 5 products based on highest average rating and minimum interactions of 100:             Average Rating  Rating Count\n",
            "prod_id                                 \n",
            "B003ES5ZUU        4.864130           184\n",
            "B000N99BBC        4.772455           167\n",
            "B002WE6D44        4.770000           100\n",
            "B007WTAJTO        4.701220           164\n",
            "B002V88HFE        4.698113           106\n"
          ]
        }
      ],
      "source": [
        "# df = final_rating\n",
        "# n = 5\n",
        "# min_interactions = 100\n",
        "\n",
        "top_products_50 = top_products(final_rating,5,100)\n",
        "\n",
        "print(\"Top 5 products based on highest average rating and minimum interactions of 100:\" , top_products_50)"
      ]
    },
    {
      "cell_type": "markdown",
      "metadata": {
        "id": "BL-m68a15JtT",
        "outputId": "69132b0f-8d3f-4798-f6a0-249e17a3c822"
      },
      "source": [
        "We have recommended the **top 5** products by using the popularity recommendation system. Now, let's build a recommendation system using **collaborative filtering.**"
      ]
    },
    {
      "cell_type": "markdown",
      "metadata": {
        "id": "sJI5kiiGvOOK"
      },
      "source": [
        "## **Model 2: Collaborative Filtering Recommendation System**"
      ]
    },
    {
      "cell_type": "markdown",
      "metadata": {
        "id": "skzc0N1_nVNB"
      },
      "source": [
        "### **Building a baseline user-user similarity based recommendation system**"
      ]
    },
    {
      "cell_type": "markdown",
      "metadata": {
        "id": "d4Uo_MYMnVNB"
      },
      "source": [
        "- Below, we are building **similarity-based recommendation systems** using `cosine` similarity and using **KNN to find similar users** which are the nearest neighbor to the given user.  \n",
        "- We will be using a new library, called `surprise`, to build the remaining models. Let's first import the necessary classes and functions from this library."
      ]
    },
    {
      "cell_type": "code",
      "execution_count": 83,
      "metadata": {
        "id": "UJ1wEylUpexj"
      },
      "outputs": [],
      "source": [
        "# To compute the accuracy of models\n",
        "from surprise import accuracy\n",
        "\n",
        "# Class is used to parse a file containing ratings, data should be in structure - user ; item ; rating\n",
        "from surprise.reader import Reader\n",
        "\n",
        "# Class for loading datasets\n",
        "from surprise.dataset import Dataset\n",
        "\n",
        "# For tuning model hyperparameters\n",
        "from surprise.model_selection import GridSearchCV\n",
        "\n",
        "# For splitting the rating data in train and test datasets\n",
        "from surprise.model_selection import train_test_split\n",
        "\n",
        "# For implementing similarity-based recommendation system\n",
        "from surprise.prediction_algorithms.knns import KNNBasic\n",
        "\n",
        "# For implementing matrix factorization based recommendation system\n",
        "from surprise.prediction_algorithms.matrix_factorization import SVD\n",
        "\n",
        "# for implementing K-Fold cross-validation\n",
        "from surprise.model_selection import KFold\n",
        "\n",
        "# For implementing clustering-based recommendation system\n",
        "from surprise import CoClustering"
      ]
    },
    {
      "cell_type": "markdown",
      "metadata": {
        "id": "54MqVAtDTsnl"
      },
      "source": [
        "**Before building the recommendation systems, let's  go over some basic terminologies we are going to use:**"
      ]
    },
    {
      "cell_type": "markdown",
      "metadata": {
        "id": "Qsxb3xhnTsnl"
      },
      "source": [
        "**Relevant item:** An item (product in this case) that is actually **rated higher than the threshold rating** is relevant, if the **actual rating is below the threshold then it is a non-relevant item**.  \n",
        "\n",
        "**Recommended item:** An item that's **predicted rating is higher than the threshold is a recommended item**, if the **predicted rating is below the threshold then that product will not be recommended to the user**.  \n"
      ]
    },
    {
      "cell_type": "markdown",
      "metadata": {
        "id": "moyLUHCuTsnl"
      },
      "source": [
        "**False Negative (FN):** It is the **frequency of relevant items that are not recommended to the user**. If the relevant items are not recommended to the user, then the user might not buy the product/item. This would result in the **loss of opportunity for the service provider**, which they would like to minimize.\n",
        "\n",
        "**False Positive (FP):** It is the **frequency of recommended items that are actually not relevant**. In this case, the recommendation system is not doing a good job of finding and recommending the relevant items to the user. This would result in **loss of resources for the service provider**, which they would also like to minimize."
      ]
    },
    {
      "cell_type": "markdown",
      "metadata": {
        "id": "Yuvc2VaZTsnl"
      },
      "source": [
        "**Recall:** It is the **fraction of actually relevant items that are recommended to the user**, i.e., if out of 10 relevant products, 6 are recommended to the user then recall is 0.60. Higher the value of recall better is the model. It is one of the metrics to do the performance assessment of classification models.\n",
        "\n",
        "**Precision:** It is the **fraction of recommended items that are relevant actually**, i.e., if out of 10 recommended items, 6 are found relevant by the user then precision is 0.60. The higher the value of precision better is the model. It is one of the metrics to do the performance assessment of classification models."
      ]
    },
    {
      "cell_type": "markdown",
      "metadata": {
        "id": "8NLc36Y8Tsnm"
      },
      "source": [
        "**While making a recommendation system, it becomes customary to look at the performance of the model. In terms of how many recommendations are relevant and vice-versa, below are some most used performance metrics used in the assessment of recommendation systems.**"
      ]
    },
    {
      "cell_type": "markdown",
      "metadata": {
        "id": "cqF8fRBqTsnm"
      },
      "source": [
        "### **Precision@k, Recall@ k, and F1-score@k**"
      ]
    },
    {
      "cell_type": "markdown",
      "metadata": {
        "id": "imMJNF0HTsnm"
      },
      "source": [
        "**Precision@k** - It is the **fraction of recommended items that are relevant in `top k` predictions**. The value of k is the number of recommendations to be provided to the user. One can choose a variable number of recommendations to be given to a unique user.  \n",
        "\n",
        "\n",
        "**Recall@k** - It is the **fraction of relevant items that are recommended to the user in `top k` predictions**.\n",
        "\n",
        "**F1-score@k** - It is the **harmonic mean of Precision@k and Recall@k**. When **precision@k and recall@k both seem to be important** then it is useful to use this metric because it is representative of both of them."
      ]
    },
    {
      "cell_type": "markdown",
      "metadata": {
        "id": "jBW4BUhWTsnm"
      },
      "source": [
        "### **Some useful functions**"
      ]
    },
    {
      "cell_type": "markdown",
      "metadata": {
        "id": "QOBHKh0eTsnm"
      },
      "source": [
        "- Below function takes the **recommendation model** as input and gives the **precision@k, recall@k, and F1-score@k** for that model.  \n",
        "- To compute **precision and recall**, **top k** predictions are taken under consideration for each user.\n",
        "- We will use the precision and recall to compute the F1-score."
      ]
    },
    {
      "cell_type": "code",
      "execution_count": 84,
      "metadata": {
        "id": "Rxn-GahOTsnm"
      },
      "outputs": [],
      "source": [
        "def precision_recall_at_k(model, k = 10, threshold = 3.5):\n",
        "    \"\"\"Return precision and recall at k metrics for each user\"\"\"\n",
        "\n",
        "    # First map the predictions to each user\n",
        "    user_est_true = defaultdict(list)\n",
        "\n",
        "    # Making predictions on the test data\n",
        "    predictions = model.test(testset)\n",
        "\n",
        "    for uid, _, true_r, est, _ in predictions:\n",
        "        user_est_true[uid].append((est, true_r))\n",
        "\n",
        "    precisions = dict()\n",
        "    recalls = dict()\n",
        "    for uid, user_ratings in user_est_true.items():\n",
        "\n",
        "        # Sort user ratings by estimated value\n",
        "        user_ratings.sort(key = lambda x: x[0], reverse = True)\n",
        "\n",
        "        # Number of relevant items\n",
        "        n_rel = sum((true_r >= threshold) for (_, true_r) in user_ratings)\n",
        "\n",
        "        # Number of recommended items in top k\n",
        "        n_rec_k = sum((est >= threshold) for (est, _) in user_ratings[:k])\n",
        "\n",
        "        # Number of relevant and recommended items in top k\n",
        "        n_rel_and_rec_k = sum(((true_r >= threshold) and (est >= threshold))\n",
        "                              for (est, true_r) in user_ratings[:k])\n",
        "\n",
        "        # Precision@K: Proportion of recommended items that are relevant\n",
        "        # When n_rec_k is 0, Precision is undefined. Therefore, we are setting Precision to 0 when n_rec_k is 0\n",
        "\n",
        "        precisions[uid] = n_rel_and_rec_k / n_rec_k if n_rec_k != 0 else 0\n",
        "\n",
        "        # Recall@K: Proportion of relevant items that are recommended\n",
        "        # When n_rel is 0, Recall is undefined. Therefore, we are setting Recall to 0 when n_rel is 0\n",
        "\n",
        "        recalls[uid] = n_rel_and_rec_k / n_rel if n_rel != 0 else 0\n",
        "\n",
        "    # Mean of all the predicted precisions are calculated.\n",
        "    precision = round((sum(prec for prec in precisions.values()) / len(precisions)), 3)\n",
        "\n",
        "    # Mean of all the predicted recalls are calculated.\n",
        "    recall = round((sum(rec for rec in recalls.values()) / len(recalls)), 3)\n",
        "\n",
        "    accuracy.rmse(predictions)\n",
        "\n",
        "    print('Precision: ', precision) # Command to print the overall precision\n",
        "\n",
        "    print('Recall: ', recall) # Command to print the overall recall\n",
        "\n",
        "    print('F_1 score: ', round((2*precision*recall)/(precision+recall), 3)) # Formula to compute the F-1 score"
      ]
    },
    {
      "cell_type": "markdown",
      "metadata": {
        "id": "_ZmsamDVyek-"
      },
      "source": [
        "**Hints:**\n",
        "\n",
        "- To compute **precision and recall**, a **threshold of 3.5 and k value of 10 can be considered for the recommended and relevant ratings**.\n",
        "- Think about the performance metric to choose."
      ]
    },
    {
      "cell_type": "markdown",
      "metadata": {
        "id": "8hxjJMTwnVNB"
      },
      "source": [
        "Below we are loading the **`rating` dataset**, which is a **pandas DataFrame**, into a **different format called `surprise.dataset.DatasetAutoFolds`**, which is required by this library. To do this, we will be **using the classes `Reader` and `Dataset`.**"
      ]
    },
    {
      "cell_type": "code",
      "execution_count": 85,
      "metadata": {
        "id": "rGfYDiOCpe4X"
      },
      "outputs": [],
      "source": [
        "# Instantiating Reader scale with expected rating scale\n",
        "reader = Reader(rating_scale= (0,5))\n",
        "# Loading the rating dataset\n",
        "data = Dataset.load_from_df(df_final[['user_id','prod_id','rating']],reader)\n",
        "# Splitting the data into train and test datasets\n",
        "trainset, testset = train_test_split(data, test_size= 0.3, random_state= 42)"
      ]
    },
    {
      "cell_type": "markdown",
      "metadata": {
        "id": "DmHTEt7TnVNC"
      },
      "source": [
        "Now, we are **ready to build the first baseline similarity-based recommendation system** using the cosine similarity."
      ]
    },
    {
      "cell_type": "markdown",
      "metadata": {
        "id": "SVDfVHB4tQfU"
      },
      "source": [
        "### **Building the user-user Similarity-based Recommendation System**"
      ]
    },
    {
      "cell_type": "code",
      "execution_count": 86,
      "metadata": {
        "id": "vO3FL7iape8A",
        "scrolled": false,
        "colab": {
          "base_uri": "https://localhost:8080/"
        },
        "outputId": "3b077c42-e905-497f-ec7e-7a3b4ec65d28"
      },
      "outputs": [
        {
          "output_type": "stream",
          "name": "stdout",
          "text": [
            "RMSE: 1.0250\n",
            "Precision:  0.86\n",
            "Recall:  0.783\n",
            "F_1 score:  0.82\n"
          ]
        }
      ],
      "source": [
        "# Declaring the similarity options\n",
        "sim_options = {'name' : 'cosine', 'user_based' : True}\n",
        "\n",
        "# Initialize the KNNBasic model using sim_options declared, Verbose = False, and setting random_state = 1\n",
        "knn_user = KNNBasic(sim_options=sim_options , verbose= False)\n",
        "\n",
        "# Fit the model on the training data\n",
        "knn_user.fit(trainset)\n",
        "\n",
        "# Let us compute precision@k, recall@k, and f_1 score using the precision_recall_at_k function defined above\n",
        "precision_recall_at_k(knn_user)"
      ]
    },
    {
      "cell_type": "markdown",
      "metadata": {
        "id": "nEuJK_A9Tsnn"
      },
      "source": [
        "**Observations:**\n",
        "\n",
        "- We can observe that the baseline model has **RMSE=1.025** on the test set.\n",
        "- Intuition of Recall - We are getting a **recall of ~0.78**, which means out of **all the relevant items, 78% are recommended**.\n",
        "- Intuition of Precision - We are getting a **precision of ~ 0.86**, which means **out of all the recommended item, 86% are relevant**.\n",
        "- Here **F_1 score** of the **baseline model is ~0.82**. It indicates that **mostly recommended items were relevant and relevant items were recommended**. We can try to improve the performance by using **GridSearchCV to tune different hyperparameters** of the algorithm.\n"
      ]
    },
    {
      "cell_type": "markdown",
      "metadata": {
        "id": "reFD0-nsnVNC"
      },
      "source": [
        "Let's now **predict rating for a user with `userId=A3LDPF5FMB782Z` and `productId=1400501466`** as shown below. Here the user has already interacted or watched the product with productId '1400501466' and given a rating of 5."
      ]
    },
    {
      "cell_type": "code",
      "source": [
        "df_final[(df_final['prod_id'] == '1400501466') & (df_final['user_id'] == 'A3LDPF5FMB782Z')]"
      ],
      "metadata": {
        "colab": {
          "base_uri": "https://localhost:8080/",
          "height": 81
        },
        "id": "ppbhthbsw8_y",
        "outputId": "0c5435c2-4390-457d-c1de-7cc42f71cada"
      },
      "execution_count": 87,
      "outputs": [
        {
          "output_type": "execute_result",
          "data": {
            "text/plain": [
              "             user_id     prod_id  rating\n",
              "1309  A3LDPF5FMB782Z  1400501466     5.0"
            ],
            "text/html": [
              "\n",
              "  <div id=\"df-36d80033-f38e-4085-96a4-d392c9e78035\">\n",
              "    <div class=\"colab-df-container\">\n",
              "      <div>\n",
              "<style scoped>\n",
              "    .dataframe tbody tr th:only-of-type {\n",
              "        vertical-align: middle;\n",
              "    }\n",
              "\n",
              "    .dataframe tbody tr th {\n",
              "        vertical-align: top;\n",
              "    }\n",
              "\n",
              "    .dataframe thead th {\n",
              "        text-align: right;\n",
              "    }\n",
              "</style>\n",
              "<table border=\"1\" class=\"dataframe\">\n",
              "  <thead>\n",
              "    <tr style=\"text-align: right;\">\n",
              "      <th></th>\n",
              "      <th>user_id</th>\n",
              "      <th>prod_id</th>\n",
              "      <th>rating</th>\n",
              "    </tr>\n",
              "  </thead>\n",
              "  <tbody>\n",
              "    <tr>\n",
              "      <th>1309</th>\n",
              "      <td>A3LDPF5FMB782Z</td>\n",
              "      <td>1400501466</td>\n",
              "      <td>5.0</td>\n",
              "    </tr>\n",
              "  </tbody>\n",
              "</table>\n",
              "</div>\n",
              "      <button class=\"colab-df-convert\" onclick=\"convertToInteractive('df-36d80033-f38e-4085-96a4-d392c9e78035')\"\n",
              "              title=\"Convert this dataframe to an interactive table.\"\n",
              "              style=\"display:none;\">\n",
              "        \n",
              "  <svg xmlns=\"http://www.w3.org/2000/svg\" height=\"24px\"viewBox=\"0 0 24 24\"\n",
              "       width=\"24px\">\n",
              "    <path d=\"M0 0h24v24H0V0z\" fill=\"none\"/>\n",
              "    <path d=\"M18.56 5.44l.94 2.06.94-2.06 2.06-.94-2.06-.94-.94-2.06-.94 2.06-2.06.94zm-11 1L8.5 8.5l.94-2.06 2.06-.94-2.06-.94L8.5 2.5l-.94 2.06-2.06.94zm10 10l.94 2.06.94-2.06 2.06-.94-2.06-.94-.94-2.06-.94 2.06-2.06.94z\"/><path d=\"M17.41 7.96l-1.37-1.37c-.4-.4-.92-.59-1.43-.59-.52 0-1.04.2-1.43.59L10.3 9.45l-7.72 7.72c-.78.78-.78 2.05 0 2.83L4 21.41c.39.39.9.59 1.41.59.51 0 1.02-.2 1.41-.59l7.78-7.78 2.81-2.81c.8-.78.8-2.07 0-2.86zM5.41 20L4 18.59l7.72-7.72 1.47 1.35L5.41 20z\"/>\n",
              "  </svg>\n",
              "      </button>\n",
              "      \n",
              "  <style>\n",
              "    .colab-df-container {\n",
              "      display:flex;\n",
              "      flex-wrap:wrap;\n",
              "      gap: 12px;\n",
              "    }\n",
              "\n",
              "    .colab-df-convert {\n",
              "      background-color: #E8F0FE;\n",
              "      border: none;\n",
              "      border-radius: 50%;\n",
              "      cursor: pointer;\n",
              "      display: none;\n",
              "      fill: #1967D2;\n",
              "      height: 32px;\n",
              "      padding: 0 0 0 0;\n",
              "      width: 32px;\n",
              "    }\n",
              "\n",
              "    .colab-df-convert:hover {\n",
              "      background-color: #E2EBFA;\n",
              "      box-shadow: 0px 1px 2px rgba(60, 64, 67, 0.3), 0px 1px 3px 1px rgba(60, 64, 67, 0.15);\n",
              "      fill: #174EA6;\n",
              "    }\n",
              "\n",
              "    [theme=dark] .colab-df-convert {\n",
              "      background-color: #3B4455;\n",
              "      fill: #D2E3FC;\n",
              "    }\n",
              "\n",
              "    [theme=dark] .colab-df-convert:hover {\n",
              "      background-color: #434B5C;\n",
              "      box-shadow: 0px 1px 3px 1px rgba(0, 0, 0, 0.15);\n",
              "      filter: drop-shadow(0px 1px 2px rgba(0, 0, 0, 0.3));\n",
              "      fill: #FFFFFF;\n",
              "    }\n",
              "  </style>\n",
              "\n",
              "      <script>\n",
              "        const buttonEl =\n",
              "          document.querySelector('#df-36d80033-f38e-4085-96a4-d392c9e78035 button.colab-df-convert');\n",
              "        buttonEl.style.display =\n",
              "          google.colab.kernel.accessAllowed ? 'block' : 'none';\n",
              "\n",
              "        async function convertToInteractive(key) {\n",
              "          const element = document.querySelector('#df-36d80033-f38e-4085-96a4-d392c9e78035');\n",
              "          const dataTable =\n",
              "            await google.colab.kernel.invokeFunction('convertToInteractive',\n",
              "                                                     [key], {});\n",
              "          if (!dataTable) return;\n",
              "\n",
              "          const docLinkHtml = 'Like what you see? Visit the ' +\n",
              "            '<a target=\"_blank\" href=https://colab.research.google.com/notebooks/data_table.ipynb>data table notebook</a>'\n",
              "            + ' to learn more about interactive tables.';\n",
              "          element.innerHTML = '';\n",
              "          dataTable['output_type'] = 'display_data';\n",
              "          await google.colab.output.renderOutput(dataTable, element);\n",
              "          const docLink = document.createElement('div');\n",
              "          docLink.innerHTML = docLinkHtml;\n",
              "          element.appendChild(docLink);\n",
              "        }\n",
              "      </script>\n",
              "    </div>\n",
              "  </div>\n",
              "  "
            ]
          },
          "metadata": {},
          "execution_count": 87
        }
      ]
    },
    {
      "cell_type": "code",
      "execution_count": 88,
      "metadata": {
        "id": "Sxd23bZ9pe_x",
        "colab": {
          "base_uri": "https://localhost:8080/"
        },
        "outputId": "c483d897-08c6-402d-bd06-1879169e83d3"
      },
      "outputs": [
        {
          "output_type": "stream",
          "name": "stdout",
          "text": [
            "user: A3LDPF5FMB782Z item: 1400501466 r_ui = 5.00   est = 3.00   {'actual_k': 4, 'was_impossible': False}\n"
          ]
        },
        {
          "output_type": "execute_result",
          "data": {
            "text/plain": [
              "Prediction(uid='A3LDPF5FMB782Z', iid='1400501466', r_ui=5, est=3.0, details={'actual_k': 4, 'was_impossible': False})"
            ]
          },
          "metadata": {},
          "execution_count": 88
        }
      ],
      "source": [
        "# Predicting rating for a sample user with an interacted product\n",
        "knn_user.predict('A3LDPF5FMB782Z','1400501466', r_ui = 5, verbose= True)"
      ]
    },
    {
      "cell_type": "markdown",
      "metadata": {
        "id": "ENJcqG_wemRH"
      },
      "source": [
        "- We observe that the actual rating for this user-item pair is 5 and predicted rating is 3 by this similarity based baseline model, which is not that great."
      ]
    },
    {
      "cell_type": "markdown",
      "metadata": {
        "id": "cj6ecbglTsno"
      },
      "source": [
        "Below is the **list of users who have not seen the product with product id \"1400501466\"**."
      ]
    },
    {
      "cell_type": "code",
      "execution_count": 89,
      "metadata": {
        "id": "xCRBMD-RTsno",
        "colab": {
          "base_uri": "https://localhost:8080/"
        },
        "outputId": "0641aad3-94a6-4d04-d0b4-08d366bfe5da"
      },
      "outputs": [
        {
          "output_type": "execute_result",
          "data": {
            "text/plain": [
              "array(['A2ZR3YTMEEIIZ4', 'A3CLWR1UUZT6TG', 'A5JLAU2ARJ0BO', ...,\n",
              "       'A215WH6RUDUCMP', 'A38C12950IM24P', 'A2J4XMWKR8PPD0'], dtype=object)"
            ]
          },
          "metadata": {},
          "execution_count": 89
        }
      ],
      "source": [
        "# Find unique user_id where prod_id is not equal to \"1400501466\"\n",
        "df_final[(df_final['prod_id'] != '1400501466')].user_id.unique()"
      ]
    },
    {
      "cell_type": "code",
      "source": [
        "df_final[(df_final['user_id'] == 'A34BZM6S9L7QI4')]"
      ],
      "metadata": {
        "colab": {
          "base_uri": "https://localhost:8080/",
          "height": 424
        },
        "id": "HzRuPyJyzYxF",
        "outputId": "d52c4bd7-69b8-4e06-a8f0-78a4d3363403"
      },
      "execution_count": 90,
      "outputs": [
        {
          "output_type": "execute_result",
          "data": {
            "text/plain": [
              "                user_id     prod_id  rating\n",
              "1161051  A34BZM6S9L7QI4  B000MDZKUU     5.0\n",
              "1544020  A34BZM6S9L7QI4  B000ZH98LU     4.0\n",
              "2821792  A34BZM6S9L7QI4  B002S53LJ2     5.0\n",
              "2898609  A34BZM6S9L7QI4  B002VPE1Q6     5.0\n",
              "2914884  A34BZM6S9L7QI4  B002WE6D44     5.0\n",
              "...                 ...         ...     ...\n",
              "7806777  A34BZM6S9L7QI4  B00J5174TU     5.0\n",
              "7807175  A34BZM6S9L7QI4  B00J5DS8NE     5.0\n",
              "7807279  A34BZM6S9L7QI4  B00J5HDEPC     3.0\n",
              "7823884  A34BZM6S9L7QI4  B00KYMCJF8     5.0\n",
              "7824422  A34BZM6S9L7QI4  B00LGQ6HL8     5.0\n",
              "\n",
              "[122 rows x 3 columns]"
            ],
            "text/html": [
              "\n",
              "  <div id=\"df-7e957b95-2148-4fb4-ab33-220a05e2b40a\">\n",
              "    <div class=\"colab-df-container\">\n",
              "      <div>\n",
              "<style scoped>\n",
              "    .dataframe tbody tr th:only-of-type {\n",
              "        vertical-align: middle;\n",
              "    }\n",
              "\n",
              "    .dataframe tbody tr th {\n",
              "        vertical-align: top;\n",
              "    }\n",
              "\n",
              "    .dataframe thead th {\n",
              "        text-align: right;\n",
              "    }\n",
              "</style>\n",
              "<table border=\"1\" class=\"dataframe\">\n",
              "  <thead>\n",
              "    <tr style=\"text-align: right;\">\n",
              "      <th></th>\n",
              "      <th>user_id</th>\n",
              "      <th>prod_id</th>\n",
              "      <th>rating</th>\n",
              "    </tr>\n",
              "  </thead>\n",
              "  <tbody>\n",
              "    <tr>\n",
              "      <th>1161051</th>\n",
              "      <td>A34BZM6S9L7QI4</td>\n",
              "      <td>B000MDZKUU</td>\n",
              "      <td>5.0</td>\n",
              "    </tr>\n",
              "    <tr>\n",
              "      <th>1544020</th>\n",
              "      <td>A34BZM6S9L7QI4</td>\n",
              "      <td>B000ZH98LU</td>\n",
              "      <td>4.0</td>\n",
              "    </tr>\n",
              "    <tr>\n",
              "      <th>2821792</th>\n",
              "      <td>A34BZM6S9L7QI4</td>\n",
              "      <td>B002S53LJ2</td>\n",
              "      <td>5.0</td>\n",
              "    </tr>\n",
              "    <tr>\n",
              "      <th>2898609</th>\n",
              "      <td>A34BZM6S9L7QI4</td>\n",
              "      <td>B002VPE1Q6</td>\n",
              "      <td>5.0</td>\n",
              "    </tr>\n",
              "    <tr>\n",
              "      <th>2914884</th>\n",
              "      <td>A34BZM6S9L7QI4</td>\n",
              "      <td>B002WE6D44</td>\n",
              "      <td>5.0</td>\n",
              "    </tr>\n",
              "    <tr>\n",
              "      <th>...</th>\n",
              "      <td>...</td>\n",
              "      <td>...</td>\n",
              "      <td>...</td>\n",
              "    </tr>\n",
              "    <tr>\n",
              "      <th>7806777</th>\n",
              "      <td>A34BZM6S9L7QI4</td>\n",
              "      <td>B00J5174TU</td>\n",
              "      <td>5.0</td>\n",
              "    </tr>\n",
              "    <tr>\n",
              "      <th>7807175</th>\n",
              "      <td>A34BZM6S9L7QI4</td>\n",
              "      <td>B00J5DS8NE</td>\n",
              "      <td>5.0</td>\n",
              "    </tr>\n",
              "    <tr>\n",
              "      <th>7807279</th>\n",
              "      <td>A34BZM6S9L7QI4</td>\n",
              "      <td>B00J5HDEPC</td>\n",
              "      <td>3.0</td>\n",
              "    </tr>\n",
              "    <tr>\n",
              "      <th>7823884</th>\n",
              "      <td>A34BZM6S9L7QI4</td>\n",
              "      <td>B00KYMCJF8</td>\n",
              "      <td>5.0</td>\n",
              "    </tr>\n",
              "    <tr>\n",
              "      <th>7824422</th>\n",
              "      <td>A34BZM6S9L7QI4</td>\n",
              "      <td>B00LGQ6HL8</td>\n",
              "      <td>5.0</td>\n",
              "    </tr>\n",
              "  </tbody>\n",
              "</table>\n",
              "<p>122 rows × 3 columns</p>\n",
              "</div>\n",
              "      <button class=\"colab-df-convert\" onclick=\"convertToInteractive('df-7e957b95-2148-4fb4-ab33-220a05e2b40a')\"\n",
              "              title=\"Convert this dataframe to an interactive table.\"\n",
              "              style=\"display:none;\">\n",
              "        \n",
              "  <svg xmlns=\"http://www.w3.org/2000/svg\" height=\"24px\"viewBox=\"0 0 24 24\"\n",
              "       width=\"24px\">\n",
              "    <path d=\"M0 0h24v24H0V0z\" fill=\"none\"/>\n",
              "    <path d=\"M18.56 5.44l.94 2.06.94-2.06 2.06-.94-2.06-.94-.94-2.06-.94 2.06-2.06.94zm-11 1L8.5 8.5l.94-2.06 2.06-.94-2.06-.94L8.5 2.5l-.94 2.06-2.06.94zm10 10l.94 2.06.94-2.06 2.06-.94-2.06-.94-.94-2.06-.94 2.06-2.06.94z\"/><path d=\"M17.41 7.96l-1.37-1.37c-.4-.4-.92-.59-1.43-.59-.52 0-1.04.2-1.43.59L10.3 9.45l-7.72 7.72c-.78.78-.78 2.05 0 2.83L4 21.41c.39.39.9.59 1.41.59.51 0 1.02-.2 1.41-.59l7.78-7.78 2.81-2.81c.8-.78.8-2.07 0-2.86zM5.41 20L4 18.59l7.72-7.72 1.47 1.35L5.41 20z\"/>\n",
              "  </svg>\n",
              "      </button>\n",
              "      \n",
              "  <style>\n",
              "    .colab-df-container {\n",
              "      display:flex;\n",
              "      flex-wrap:wrap;\n",
              "      gap: 12px;\n",
              "    }\n",
              "\n",
              "    .colab-df-convert {\n",
              "      background-color: #E8F0FE;\n",
              "      border: none;\n",
              "      border-radius: 50%;\n",
              "      cursor: pointer;\n",
              "      display: none;\n",
              "      fill: #1967D2;\n",
              "      height: 32px;\n",
              "      padding: 0 0 0 0;\n",
              "      width: 32px;\n",
              "    }\n",
              "\n",
              "    .colab-df-convert:hover {\n",
              "      background-color: #E2EBFA;\n",
              "      box-shadow: 0px 1px 2px rgba(60, 64, 67, 0.3), 0px 1px 3px 1px rgba(60, 64, 67, 0.15);\n",
              "      fill: #174EA6;\n",
              "    }\n",
              "\n",
              "    [theme=dark] .colab-df-convert {\n",
              "      background-color: #3B4455;\n",
              "      fill: #D2E3FC;\n",
              "    }\n",
              "\n",
              "    [theme=dark] .colab-df-convert:hover {\n",
              "      background-color: #434B5C;\n",
              "      box-shadow: 0px 1px 3px 1px rgba(0, 0, 0, 0.15);\n",
              "      filter: drop-shadow(0px 1px 2px rgba(0, 0, 0, 0.3));\n",
              "      fill: #FFFFFF;\n",
              "    }\n",
              "  </style>\n",
              "\n",
              "      <script>\n",
              "        const buttonEl =\n",
              "          document.querySelector('#df-7e957b95-2148-4fb4-ab33-220a05e2b40a button.colab-df-convert');\n",
              "        buttonEl.style.display =\n",
              "          google.colab.kernel.accessAllowed ? 'block' : 'none';\n",
              "\n",
              "        async function convertToInteractive(key) {\n",
              "          const element = document.querySelector('#df-7e957b95-2148-4fb4-ab33-220a05e2b40a');\n",
              "          const dataTable =\n",
              "            await google.colab.kernel.invokeFunction('convertToInteractive',\n",
              "                                                     [key], {});\n",
              "          if (!dataTable) return;\n",
              "\n",
              "          const docLinkHtml = 'Like what you see? Visit the ' +\n",
              "            '<a target=\"_blank\" href=https://colab.research.google.com/notebooks/data_table.ipynb>data table notebook</a>'\n",
              "            + ' to learn more about interactive tables.';\n",
              "          element.innerHTML = '';\n",
              "          dataTable['output_type'] = 'display_data';\n",
              "          await google.colab.output.renderOutput(dataTable, element);\n",
              "          const docLink = document.createElement('div');\n",
              "          docLink.innerHTML = docLinkHtml;\n",
              "          element.appendChild(docLink);\n",
              "        }\n",
              "      </script>\n",
              "    </div>\n",
              "  </div>\n",
              "  "
            ]
          },
          "metadata": {},
          "execution_count": 90
        }
      ]
    },
    {
      "cell_type": "markdown",
      "metadata": {
        "id": "KT42ecaSTsno"
      },
      "source": [
        "* It can be observed from the above list that **user \"A34BZM6S9L7QI4\" has not seen the product with productId \"1400501466\"** as this userId is a part of the above list."
      ]
    },
    {
      "cell_type": "markdown",
      "metadata": {
        "id": "EXSgq8OEnVNE"
      },
      "source": [
        "**Below we are predicting rating for `userId=A34BZM6S9L7QI4` and `prod_id=1400501466`.**"
      ]
    },
    {
      "cell_type": "code",
      "execution_count": 91,
      "metadata": {
        "id": "PbFcBj1PpfEV",
        "colab": {
          "base_uri": "https://localhost:8080/"
        },
        "outputId": "8c887269-e41a-4cf5-97b6-3c0aabcd5a18"
      },
      "outputs": [
        {
          "output_type": "stream",
          "name": "stdout",
          "text": [
            "user: A34BZM6S9L7QI4 item: 1400501466 r_ui = None   est = 4.29   {'was_impossible': True, 'reason': 'Not enough neighbors.'}\n"
          ]
        },
        {
          "output_type": "execute_result",
          "data": {
            "text/plain": [
              "Prediction(uid='A34BZM6S9L7QI4', iid='1400501466', r_ui=None, est=4.291403190162572, details={'was_impossible': True, 'reason': 'Not enough neighbors.'})"
            ]
          },
          "metadata": {},
          "execution_count": 91
        }
      ],
      "source": [
        "# Predicting rating for a sample user with a non interacted product\n",
        "knn_user.predict('A34BZM6S9L7QI4','1400501466', verbose= True)"
      ]
    },
    {
      "cell_type": "markdown",
      "metadata": {
        "id": "02rwld8yemRI"
      },
      "source": [
        "** It can be observed from the above list that **user \"A34BZM6S9L7QI4\" predicted product rating with productId \"1400501466\"** is estimated 4.29 or rounded off to 4.00"
      ]
    },
    {
      "cell_type": "markdown",
      "metadata": {
        "id": "ejjof6csnVNF"
      },
      "source": [
        "### **Improving similarity-based recommendation system by tuning its hyperparameters**"
      ]
    },
    {
      "cell_type": "markdown",
      "metadata": {
        "id": "p2j4VvfQnVNF"
      },
      "source": [
        "Below, we will be tuning hyperparameters for the `KNNBasic` algorithm. Let's try to understand some of the hyperparameters of the KNNBasic algorithm:\n",
        "\n",
        "- **k** (int) – The (max) number of neighbors to take into account for aggregation. Default is 40.\n",
        "- **min_k** (int) – The minimum number of neighbors to take into account for aggregation. If there are not enough neighbors, the prediction is set to the global mean of all ratings. Default is 1.\n",
        "- **sim_options** (dict) – A dictionary of options for the similarity measure. And there are four similarity measures available in surprise -\n",
        "    - cosine\n",
        "    - msd (default)\n",
        "    - Pearson\n",
        "    - Pearson baseline"
      ]
    },
    {
      "cell_type": "code",
      "execution_count": 92,
      "metadata": {
        "id": "9LmPbSUSTsnp",
        "colab": {
          "base_uri": "https://localhost:8080/"
        },
        "outputId": "9fed50da-8715-4fbd-d5ce-4397956e89e1"
      },
      "outputs": [
        {
          "output_type": "execute_result",
          "data": {
            "text/plain": [
              "{'k': 40, 'min_k': 5, 'sim_options': {'name': 'cosine', 'user_based': True}}"
            ]
          },
          "metadata": {},
          "execution_count": 92
        }
      ],
      "source": [
        "# Setting up parameter grid to tune the hyperparameters\n",
        "param_grid = {'k': [20, 30, 40], 'min_k': [3, 5, 9],\n",
        "              'sim_options': {'name': ['msd', 'cosine'],\n",
        "                              'user_based': [True]}\n",
        "              }\n",
        "# Performing 3-fold cross-validation to tune the hyperparameters\n",
        "gscv = GridSearchCV(KNNBasic , param_grid,measures= ['rmse','mae'], cv=3 , n_jobs = -1)\n",
        "\n",
        "# Fitting the data\n",
        "gscv.fit(data)\n",
        "\n",
        "# Best RMSE score\n",
        "gscv.best_score['rmse']\n",
        "\n",
        "# Combination of parameters that gave the best RMSE score\n",
        "gscv.best_params['rmse']"
      ]
    },
    {
      "cell_type": "markdown",
      "metadata": {
        "id": "L2fHNvu7nVNF"
      },
      "source": [
        "Once the grid search is **complete**, we can get the **optimal values for each of those hyperparameters**.\n",
        "\n",
        "{'k': 40, 'min_k': 5, 'sim_options': {'name': 'cosine', 'user_based': True}"
      ]
    },
    {
      "cell_type": "markdown",
      "metadata": {
        "id": "NHWgxu_YnVNG"
      },
      "source": [
        "Now, let's build the **final model by using tuned values of the hyperparameters**, which we received by using **grid search cross-validation**."
      ]
    },
    {
      "cell_type": "code",
      "execution_count": 93,
      "metadata": {
        "id": "PujRJA8X_JEJ",
        "colab": {
          "base_uri": "https://localhost:8080/"
        },
        "outputId": "7cbaf5b4-d7c6-48bb-c1ee-905365f9552f"
      },
      "outputs": [
        {
          "output_type": "stream",
          "name": "stdout",
          "text": [
            "Computing the cosine similarity matrix...\n",
            "Done computing similarity matrix.\n",
            "RMSE: 0.9621\n",
            "Precision:  0.852\n",
            "Recall:  0.809\n",
            "F_1 score:  0.83\n"
          ]
        }
      ],
      "source": [
        "# Using the optimal similarity measure for user-user based collaborative filtering\n",
        "sim_options: {'name': 'cosine',\n",
        "              'user_based': True}\n",
        "# Creating an instance of KNNBasic with optimal hyperparameter values\n",
        "knn_user_optimized = KNNBasic(sim_options= sim_options , k =40 , min_k= 5 )\n",
        "# Training the algorithm on the trainset\n",
        "knn_user_optimized.fit(trainset)\n",
        "# Let us compute precision@k and recall@k also with k =10\n",
        "precision_recall_at_k(knn_user_optimized)"
      ]
    },
    {
      "cell_type": "markdown",
      "metadata": {
        "id": "yHsWvFjKTsnp"
      },
      "source": [
        "---------------------\n",
        "**Observations:**\n",
        "-------------------\n",
        "-------------------\n",
        "- After tuning the hyperparameters using GridSearchCV, we can observe an improvement in the performance of the collaborative filtering model.\n",
        "- The RMSE (Root Mean Squared Error) has decreased from 1.0250 to 0.9621, indicating that the model's predictions are closer to the actual ratings.\n",
        "- The precision has slightly decreased from 0.86 to 0.852, which means that out of all the recommended items, 85.2% are still relevant.\n",
        "- The recall has increased from 0.783 to 0.809, indicating that the model is capturing a higher percentage of relevant items.\n",
        "- The F1 score has improved from 0.82 to 0.83, indicating a better balance between precision and recall.\n",
        "- Overall, the collaborative filtering model has shown improvements in its performance after tuning the hyperparameters using GridSearchCV. It is now better at predicting ratings and recommending relevant items to users.\n"
      ]
    },
    {
      "cell_type": "markdown",
      "metadata": {
        "id": "YhcAXK0CnVNG"
      },
      "source": [
        "### **Steps:**\n",
        "- **Predict rating for the user with `userId=\"A3LDPF5FMB782Z\"`, and `prod_id= \"1400501466\"` using the optimized model**\n",
        "- **Predict rating for `userId=\"A34BZM6S9L7QI4\"` who has not interacted with `prod_id =\"1400501466\"`, by using the optimized model**\n",
        "- **Compare the output with the output from the baseline model**"
      ]
    },
    {
      "cell_type": "code",
      "source": [
        "df_final[(df_final['prod_id'] == '1400501466') & (df_final['user_id'] == 'A3LDPF5FMB782Z')].rating"
      ],
      "metadata": {
        "colab": {
          "base_uri": "https://localhost:8080/"
        },
        "id": "0UF2oXel6yj8",
        "outputId": "8ee0d8fb-6d8d-4eb3-9d50-708f367da2b2"
      },
      "execution_count": 94,
      "outputs": [
        {
          "output_type": "execute_result",
          "data": {
            "text/plain": [
              "1309    5.0\n",
              "Name: rating, dtype: float64"
            ]
          },
          "metadata": {},
          "execution_count": 94
        }
      ]
    },
    {
      "cell_type": "code",
      "execution_count": 95,
      "metadata": {
        "id": "FgV63lHiq1TV",
        "colab": {
          "base_uri": "https://localhost:8080/"
        },
        "outputId": "3e69c970-9381-49c7-89c7-ed9f9dd3ccd7"
      },
      "outputs": [
        {
          "output_type": "stream",
          "name": "stdout",
          "text": [
            "user: A3LDPF5FMB782Z item: 1400501466 r_ui = 5.00   est = 4.29   {'was_impossible': True, 'reason': 'Not enough neighbors.'}\n"
          ]
        },
        {
          "output_type": "execute_result",
          "data": {
            "text/plain": [
              "Prediction(uid='A3LDPF5FMB782Z', iid='1400501466', r_ui=5, est=4.291403190162572, details={'was_impossible': True, 'reason': 'Not enough neighbors.'})"
            ]
          },
          "metadata": {},
          "execution_count": 95
        }
      ],
      "source": [
        "# Use optimized model to recommend for userId \"A3LDPF5FMB782Z\" and productId 1400501466\n",
        "\n",
        "knn_user_optimized.predict('A3LDPF5FMB782Z','1400501466', r_ui = 5, verbose= True)"
      ]
    },
    {
      "cell_type": "markdown",
      "source": [
        "** It can be observed from the above list that **user \"A3LDPF5FMB782Z\" predicted product rating with productId \"1400501466\"** is estimated 4.29 or rounded off to 4.00 which is the **better** the  rating of 3 from the baseline model.Actual Rating 5.00\n"
      ],
      "metadata": {
        "id": "HkYQFDdiITaP"
      }
    },
    {
      "cell_type": "code",
      "execution_count": 96,
      "metadata": {
        "id": "HXO2Ztjhq1bN",
        "colab": {
          "base_uri": "https://localhost:8080/"
        },
        "outputId": "4ffd28ee-3865-4431-913c-7a04dda44d7b"
      },
      "outputs": [
        {
          "output_type": "stream",
          "name": "stdout",
          "text": [
            "user: A34BZM6S9L7QI4 item: 1400501466 r_ui = None   est = 4.29   {'was_impossible': True, 'reason': 'Not enough neighbors.'}\n"
          ]
        },
        {
          "output_type": "execute_result",
          "data": {
            "text/plain": [
              "Prediction(uid='A34BZM6S9L7QI4', iid='1400501466', r_ui=None, est=4.291403190162572, details={'was_impossible': True, 'reason': 'Not enough neighbors.'})"
            ]
          },
          "metadata": {},
          "execution_count": 96
        }
      ],
      "source": [
        "# Use optimized model to recommend for userId \"A34BZM6S9L7QI4\" and productId \"1400501466\"\n",
        "knn_user_optimized.predict('A34BZM6S9L7QI4','1400501466', verbose= True)"
      ]
    },
    {
      "cell_type": "markdown",
      "metadata": {
        "id": "s5i-OPprNF2e"
      },
      "source": [
        "** It can be observed from the above list that **user \"A34BZM6S9L7QI4\" predicted product rating with productId \"1400501466\"** is estimated 4.29 or rounded off to 4.00 which is the same rating as the baseline model.\n",
        "- The additional details show that the prediction was considered impossible due to 'Not enough neighbors.' This suggests that there might not be sufficient similar items or users to make an accurate prediction for this particular combination.\n",
        "- Overall, this observation highlights the limitations of the model in making predictions for cases where there are insufficient neighbors or similarities available.\n"
      ]
    },
    {
      "cell_type": "markdown",
      "metadata": {
        "id": "op_zwO_FnVNH"
      },
      "source": [
        "### **Identifying similar users to a given user (nearest neighbors)**"
      ]
    },
    {
      "cell_type": "markdown",
      "metadata": {
        "id": "o2QsfqhanVNH"
      },
      "source": [
        "We can also find out **similar users to a given user** or its **nearest neighbors** based on this KNNBasic algorithm. Below, we are finding the 5 most similar users to the first user in the list with internal id 0, based on the `msd` distance metric."
      ]
    },
    {
      "cell_type": "code",
      "execution_count": 97,
      "metadata": {
        "id": "TbFle7cKmBJG",
        "colab": {
          "base_uri": "https://localhost:8080/"
        },
        "outputId": "b2a25214-87db-456d-da90-dc19a9f51831"
      },
      "outputs": [
        {
          "output_type": "execute_result",
          "data": {
            "text/plain": [
              "[7, 12, 16, 17, 26]"
            ]
          },
          "metadata": {},
          "execution_count": 97
        }
      ],
      "source": [
        "# 0 is the inner id of the above user\n",
        "knn_user_optimized.get_neighbors(0,5)"
      ]
    },
    {
      "cell_type": "markdown",
      "metadata": {
        "id": "Z0NsrX_anVNH"
      },
      "source": [
        "### **Implementing the recommendation algorithm based on optimized KNNBasic model**"
      ]
    },
    {
      "cell_type": "markdown",
      "metadata": {
        "id": "U3ESobDynVNI"
      },
      "source": [
        "Below we will be implementing a function where the input parameters are:\n",
        "\n",
        "- data: A **rating** dataset\n",
        "- user_id: A user id **against which we want the recommendations**\n",
        "- top_n: The **number of products we want to recommend**\n",
        "- algo: the algorithm we want to use **for predicting the ratings**\n",
        "- The output of the function is a **set of top_n items** recommended for the given user_id based on the given algorithm"
      ]
    },
    {
      "cell_type": "code",
      "execution_count": 98,
      "metadata": {
        "id": "vW9V1Tk65HlY"
      },
      "outputs": [],
      "source": [
        "def get_recommendations(data, user_id, top_n, algo):\n",
        "\n",
        "    # Creating an empty list to store the recommended product ids\n",
        "    recommendations = []\n",
        "\n",
        "    # Creating an user item interactions matrix\n",
        "    user_item_interactions_matrix = data.pivot(index = 'user_id', columns = 'prod_id', values = 'rating')\n",
        "\n",
        "    # Extracting those product ids which the user_id has not interacted yet\n",
        "    non_interacted_products = user_item_interactions_matrix.loc[user_id][user_item_interactions_matrix.loc[user_id].isnull()].index.tolist()\n",
        "\n",
        "    # Looping through each of the product ids which user_id has not interacted yet\n",
        "    for item_id in non_interacted_products:\n",
        "\n",
        "        # Predicting the ratings for those non interacted product ids by this user\n",
        "        est = algo.predict(user_id, item_id).est\n",
        "\n",
        "        # Appending the predicted ratings\n",
        "        recommendations.append((item_id, est))\n",
        "\n",
        "    # Sorting the predicted ratings in descending order\n",
        "    recommendations.sort(key = lambda x: x[1], reverse = True)\n",
        "\n",
        "    return recommendations[:top_n] # Returing top n highest predicted rating products for this user"
      ]
    },
    {
      "cell_type": "markdown",
      "metadata": {
        "id": "Oj_S7kh4nVNI"
      },
      "source": [
        "**Predicting top 5 products for userId = \"A3LDPF5FMB782Z\" with similarity based recommendation system**"
      ]
    },
    {
      "cell_type": "code",
      "execution_count": 99,
      "metadata": {
        "id": "qWbR85mI5Hrk"
      },
      "outputs": [],
      "source": [
        "# Making top 5 recommendations for user_id \"A3LDPF5FMB782Z\" with a similarity-based recommendation engine\n",
        "recom = get_recommendations(df_final ,'A3LDPF5FMB782Z', 5 , knn_user_optimized)"
      ]
    },
    {
      "cell_type": "code",
      "execution_count": 100,
      "metadata": {
        "id": "b5WfIX0Z6_q2",
        "colab": {
          "base_uri": "https://localhost:8080/",
          "height": 206
        },
        "outputId": "bc7103c0-5d45-485f-d3bd-05eb3d9c2191"
      },
      "outputs": [
        {
          "output_type": "execute_result",
          "data": {
            "text/plain": [
              "      prod_id  predicted_ratings\n",
              "0  B000067RT6                5.0\n",
              "1  B002WE6D44                5.0\n",
              "2  B00834SJSK                5.0\n",
              "3  B00006RVPW                5.0\n",
              "4  B004RORMF6                5.0"
            ],
            "text/html": [
              "\n",
              "  <div id=\"df-e06c3e4c-18bd-4d35-85b9-6f6ee203d869\">\n",
              "    <div class=\"colab-df-container\">\n",
              "      <div>\n",
              "<style scoped>\n",
              "    .dataframe tbody tr th:only-of-type {\n",
              "        vertical-align: middle;\n",
              "    }\n",
              "\n",
              "    .dataframe tbody tr th {\n",
              "        vertical-align: top;\n",
              "    }\n",
              "\n",
              "    .dataframe thead th {\n",
              "        text-align: right;\n",
              "    }\n",
              "</style>\n",
              "<table border=\"1\" class=\"dataframe\">\n",
              "  <thead>\n",
              "    <tr style=\"text-align: right;\">\n",
              "      <th></th>\n",
              "      <th>prod_id</th>\n",
              "      <th>predicted_ratings</th>\n",
              "    </tr>\n",
              "  </thead>\n",
              "  <tbody>\n",
              "    <tr>\n",
              "      <th>0</th>\n",
              "      <td>B000067RT6</td>\n",
              "      <td>5.0</td>\n",
              "    </tr>\n",
              "    <tr>\n",
              "      <th>1</th>\n",
              "      <td>B002WE6D44</td>\n",
              "      <td>5.0</td>\n",
              "    </tr>\n",
              "    <tr>\n",
              "      <th>2</th>\n",
              "      <td>B00834SJSK</td>\n",
              "      <td>5.0</td>\n",
              "    </tr>\n",
              "    <tr>\n",
              "      <th>3</th>\n",
              "      <td>B00006RVPW</td>\n",
              "      <td>5.0</td>\n",
              "    </tr>\n",
              "    <tr>\n",
              "      <th>4</th>\n",
              "      <td>B004RORMF6</td>\n",
              "      <td>5.0</td>\n",
              "    </tr>\n",
              "  </tbody>\n",
              "</table>\n",
              "</div>\n",
              "      <button class=\"colab-df-convert\" onclick=\"convertToInteractive('df-e06c3e4c-18bd-4d35-85b9-6f6ee203d869')\"\n",
              "              title=\"Convert this dataframe to an interactive table.\"\n",
              "              style=\"display:none;\">\n",
              "        \n",
              "  <svg xmlns=\"http://www.w3.org/2000/svg\" height=\"24px\"viewBox=\"0 0 24 24\"\n",
              "       width=\"24px\">\n",
              "    <path d=\"M0 0h24v24H0V0z\" fill=\"none\"/>\n",
              "    <path d=\"M18.56 5.44l.94 2.06.94-2.06 2.06-.94-2.06-.94-.94-2.06-.94 2.06-2.06.94zm-11 1L8.5 8.5l.94-2.06 2.06-.94-2.06-.94L8.5 2.5l-.94 2.06-2.06.94zm10 10l.94 2.06.94-2.06 2.06-.94-2.06-.94-.94-2.06-.94 2.06-2.06.94z\"/><path d=\"M17.41 7.96l-1.37-1.37c-.4-.4-.92-.59-1.43-.59-.52 0-1.04.2-1.43.59L10.3 9.45l-7.72 7.72c-.78.78-.78 2.05 0 2.83L4 21.41c.39.39.9.59 1.41.59.51 0 1.02-.2 1.41-.59l7.78-7.78 2.81-2.81c.8-.78.8-2.07 0-2.86zM5.41 20L4 18.59l7.72-7.72 1.47 1.35L5.41 20z\"/>\n",
              "  </svg>\n",
              "      </button>\n",
              "      \n",
              "  <style>\n",
              "    .colab-df-container {\n",
              "      display:flex;\n",
              "      flex-wrap:wrap;\n",
              "      gap: 12px;\n",
              "    }\n",
              "\n",
              "    .colab-df-convert {\n",
              "      background-color: #E8F0FE;\n",
              "      border: none;\n",
              "      border-radius: 50%;\n",
              "      cursor: pointer;\n",
              "      display: none;\n",
              "      fill: #1967D2;\n",
              "      height: 32px;\n",
              "      padding: 0 0 0 0;\n",
              "      width: 32px;\n",
              "    }\n",
              "\n",
              "    .colab-df-convert:hover {\n",
              "      background-color: #E2EBFA;\n",
              "      box-shadow: 0px 1px 2px rgba(60, 64, 67, 0.3), 0px 1px 3px 1px rgba(60, 64, 67, 0.15);\n",
              "      fill: #174EA6;\n",
              "    }\n",
              "\n",
              "    [theme=dark] .colab-df-convert {\n",
              "      background-color: #3B4455;\n",
              "      fill: #D2E3FC;\n",
              "    }\n",
              "\n",
              "    [theme=dark] .colab-df-convert:hover {\n",
              "      background-color: #434B5C;\n",
              "      box-shadow: 0px 1px 3px 1px rgba(0, 0, 0, 0.15);\n",
              "      filter: drop-shadow(0px 1px 2px rgba(0, 0, 0, 0.3));\n",
              "      fill: #FFFFFF;\n",
              "    }\n",
              "  </style>\n",
              "\n",
              "      <script>\n",
              "        const buttonEl =\n",
              "          document.querySelector('#df-e06c3e4c-18bd-4d35-85b9-6f6ee203d869 button.colab-df-convert');\n",
              "        buttonEl.style.display =\n",
              "          google.colab.kernel.accessAllowed ? 'block' : 'none';\n",
              "\n",
              "        async function convertToInteractive(key) {\n",
              "          const element = document.querySelector('#df-e06c3e4c-18bd-4d35-85b9-6f6ee203d869');\n",
              "          const dataTable =\n",
              "            await google.colab.kernel.invokeFunction('convertToInteractive',\n",
              "                                                     [key], {});\n",
              "          if (!dataTable) return;\n",
              "\n",
              "          const docLinkHtml = 'Like what you see? Visit the ' +\n",
              "            '<a target=\"_blank\" href=https://colab.research.google.com/notebooks/data_table.ipynb>data table notebook</a>'\n",
              "            + ' to learn more about interactive tables.';\n",
              "          element.innerHTML = '';\n",
              "          dataTable['output_type'] = 'display_data';\n",
              "          await google.colab.output.renderOutput(dataTable, element);\n",
              "          const docLink = document.createElement('div');\n",
              "          docLink.innerHTML = docLinkHtml;\n",
              "          element.appendChild(docLink);\n",
              "        }\n",
              "      </script>\n",
              "    </div>\n",
              "  </div>\n",
              "  "
            ]
          },
          "metadata": {},
          "execution_count": 100
        }
      ],
      "source": [
        "# Building the dataframe for above recommendations with columns \"prod_id\" and \"predicted_ratings\"\n",
        "recom_df = pd.DataFrame(recom, columns= ['prod_id','predicted_ratings' ])\n",
        "recom_df"
      ]
    },
    {
      "cell_type": "markdown",
      "metadata": {
        "id": "QgbzJKk7Tsnr"
      },
      "source": [
        "### **Item-Item Similarity-based Collaborative Filtering Recommendation System**"
      ]
    },
    {
      "cell_type": "markdown",
      "metadata": {
        "id": "qTJu_2hcTsnr"
      },
      "source": [
        "* Above we have seen **similarity-based collaborative filtering** where similarity is calculated **between users**. Now let us look into similarity-based collaborative filtering where similarity is seen **between items**."
      ]
    },
    {
      "cell_type": "code",
      "execution_count": 101,
      "metadata": {
        "id": "W5RMcdzjTsns",
        "scrolled": false,
        "colab": {
          "base_uri": "https://localhost:8080/"
        },
        "outputId": "59ffd4a8-91e6-40f7-92e7-23edfed34917"
      },
      "outputs": [
        {
          "output_type": "stream",
          "name": "stdout",
          "text": [
            "Computing the cosine similarity matrix...\n",
            "Done computing similarity matrix.\n",
            "RMSE: 1.0232\n",
            "Precision:  0.835\n",
            "Recall:  0.758\n",
            "F_1 score:  0.795\n"
          ]
        }
      ],
      "source": [
        "from pandas.core.common import random_state\n",
        "# Declaring the similarity options\n",
        "sim_options = {'name': 'cosine',\n",
        "               'user_based': False}\n",
        "# KNN algorithm is used to find desired similar items. Use random_state=1\n",
        "knn_item = KNNBasic(sim_options=sim_options ,random_state = 1)\n",
        "# Train the algorithm on the trainset, and predict ratings for the test set\n",
        "knn_item.fit(trainset)\n",
        "# Let us compute precision@k, recall@k, and f_1 score with k = 10\n",
        "precision_recall_at_k(knn_item)"
      ]
    },
    {
      "cell_type": "markdown",
      "metadata": {
        "id": "ni9LoeUVTsns"
      },
      "source": [
        "**Observations:**\n",
        "\n",
        "- The item-to-item similarity collaborative baseline model has been applied to the dataset.\n",
        "- The RMSE (Root Mean Squared Error) is 1.0232, indicating that the model's predictions have an average error of approximately 1.0232 units.\n",
        "- The precision is 0.835, meaning that out of all the recommended items, 83.5% are relevant.\n",
        "- The recall is 0.758, indicating that the model is able to capture 75.8% of the relevant items.\n",
        "- The F1 score is 0.795, which reflects a balanced performance between precision and recall.\n",
        "- Overall, the item-to-item similarity collaborative baseline model shows moderate performance in terms of accuracy and recommendation quality. There is room for improvement, and further experimentation or fine-tuning of the model parameters may be beneficial.\n"
      ]
    },
    {
      "cell_type": "markdown",
      "metadata": {
        "id": "jFbcDQmxTsns"
      },
      "source": [
        "Let's now **predict a rating for a user with `userId = A3LDPF5FMB782Z` and `prod_Id = 1400501466`** as shown below. Here the user has already interacted or watched the product with productId \"1400501466\"."
      ]
    },
    {
      "cell_type": "code",
      "execution_count": 102,
      "metadata": {
        "id": "JsF-aaWYTsns",
        "colab": {
          "base_uri": "https://localhost:8080/"
        },
        "outputId": "7b1ae73a-a030-4075-8c89-eb73b98a9803"
      },
      "outputs": [
        {
          "output_type": "stream",
          "name": "stdout",
          "text": [
            "user: A3LDPF5FMB782Z item: 1400501466 r_ui = 5.00   est = 4.32   {'actual_k': 19, 'was_impossible': False}\n"
          ]
        },
        {
          "output_type": "execute_result",
          "data": {
            "text/plain": [
              "Prediction(uid='A3LDPF5FMB782Z', iid='1400501466', r_ui=5, est=4.315789473684211, details={'actual_k': 19, 'was_impossible': False})"
            ]
          },
          "metadata": {},
          "execution_count": 102
        }
      ],
      "source": [
        "# Predicting rating for a sample user with an interacted product\n",
        "knn_item.predict('A3LDPF5FMB782Z','1400501466', r_ui = 5, verbose= True)"
      ]
    },
    {
      "cell_type": "markdown",
      "metadata": {
        "id": "2h0OyDMFTsns"
      },
      "source": [
        "** It can be observed from the above list that **user \"A3LDPF5FMB782Z\" predicted product rating with productId \"1400501466\"** is estimated 4.29 or rounded off to 4.32 (rounded to 4.00) which is the **better** the  rating of 3 from the user-user baseline model and the same as user-user knn optimized.Actual Rating 5.00. If ordinal properties are considered this is slightly better than user-user knn optimized.\n"
      ]
    },
    {
      "cell_type": "markdown",
      "metadata": {
        "id": "BqKGZoAtTsns"
      },
      "source": [
        "Below we are **predicting rating for the `userId = A34BZM6S9L7QI4` and `prod_id = 1400501466`**."
      ]
    },
    {
      "cell_type": "code",
      "execution_count": 103,
      "metadata": {
        "id": "5yILOxXRTsns",
        "colab": {
          "base_uri": "https://localhost:8080/"
        },
        "outputId": "b6362431-1ce0-4bc6-9300-01490ac77ba8"
      },
      "outputs": [
        {
          "output_type": "stream",
          "name": "stdout",
          "text": [
            "user: A34BZM6S9L7QI4 item: 1400501466 r_ui = None   est = 4.29   {'was_impossible': True, 'reason': 'Not enough neighbors.'}\n"
          ]
        },
        {
          "output_type": "execute_result",
          "data": {
            "text/plain": [
              "Prediction(uid='A34BZM6S9L7QI4', iid='1400501466', r_ui=None, est=4.291403190162572, details={'was_impossible': True, 'reason': 'Not enough neighbors.'})"
            ]
          },
          "metadata": {},
          "execution_count": 103
        }
      ],
      "source": [
        "# Predicting rating for a sample user with a non interacted product\n",
        "knn_item.predict('A34BZM6S9L7QI4','1400501466', verbose= True)"
      ]
    },
    {
      "cell_type": "markdown",
      "metadata": {
        "id": "sDKaAveJTsns"
      },
      "source": [
        "**Observation:**\n",
        "\n",
        "- The estimated rating (est) by the model is 4.29, which indicates that the model predicts a rating of 4.29(rounded to 4.00) for this user-item combination.\n",
        "- The additional details show that the prediction was considered impossible due to 'Not enough neighbors.' This suggests that there might not be sufficient similar items or users to make an accurate prediction for this particular combination.\n",
        "- Overall, this observation highlights the limitations of the model in making predictions for cases where there are insufficient neighbors or similarities available.\n"
      ]
    },
    {
      "cell_type": "markdown",
      "metadata": {
        "id": "meSvpNLj_EjD"
      },
      "source": [
        "### **Hyperparameter tuning the item-item similarity-based model**\n",
        "- Use the following values for the param_grid and tune the model.\n",
        "  - 'k': [10, 20, 30]\n",
        "  - 'min_k': [3, 6, 9]\n",
        "  - 'sim_options': {'name': ['msd', 'cosine']\n",
        "  - 'user_based': [False]\n",
        "- Use GridSearchCV() to tune the model using the 'rmse' measure\n",
        "- Print the best score and best parameters"
      ]
    },
    {
      "cell_type": "code",
      "execution_count": 104,
      "metadata": {
        "id": "f5bcZ3HgTsnt",
        "colab": {
          "base_uri": "https://localhost:8080/"
        },
        "outputId": "33c418fb-874d-4d6f-db0f-dfc765af9d81"
      },
      "outputs": [
        {
          "output_type": "execute_result",
          "data": {
            "text/plain": [
              "{'k': 30, 'min_k': 9, 'sim_options': {'name': 'msd', 'user_based': False}}"
            ]
          },
          "metadata": {},
          "execution_count": 104
        }
      ],
      "source": [
        "\n",
        "# Setting up parameter grid to tune the hyperparameters\n",
        "param_grid = {'k': [10, 20, 30], 'min_k': [3, 6, 9],\n",
        "              'sim_options': {'name': ['msd', 'cosine'],\n",
        "                              'user_based': [False]}\n",
        "              }\n",
        "# Performing 3-fold cross-validation to tune the hyperparameters\n",
        "gscv = GridSearchCV(KNNBasic , param_grid,measures= ['rmse','mae'], cv=3 , n_jobs = -1)\n",
        "\n",
        "# Fitting the data\n",
        "gscv.fit(data)\n",
        "\n",
        "# Best RMSE score\n",
        "gscv.best_score['rmse']\n",
        "\n",
        "# Combination of parameters that gave the best RMSE score\n",
        "gscv.best_params['rmse']"
      ]
    },
    {
      "cell_type": "markdown",
      "metadata": {
        "id": "1psOlx6zTsnt"
      },
      "source": [
        "Once the **grid search** is complete, we can get the **optimal values for each of those hyperparameters as shown above.**\n",
        "{'k': 30, 'min_k': 9, 'sim_options': {'name': 'msd', 'user_based': False}}"
      ]
    },
    {
      "cell_type": "markdown",
      "metadata": {
        "id": "JrSTaQemTsnt"
      },
      "source": [
        "Now let's build the **final model** by using **tuned values of the hyperparameters** which we received by using grid search cross-validation."
      ]
    },
    {
      "cell_type": "markdown",
      "metadata": {
        "id": "kOS9Dwnd_LN6"
      },
      "source": [
        "### **Use the best parameters from GridSearchCV to build the optimized item-item similarity-based model. Compare the performance of the optimized model with the baseline model.**"
      ]
    },
    {
      "cell_type": "code",
      "execution_count": 120,
      "metadata": {
        "id": "dSeiM1qeTsnt",
        "colab": {
          "base_uri": "https://localhost:8080/"
        },
        "outputId": "162c896e-3e58-463d-bc75-317b73df2854"
      },
      "outputs": [
        {
          "output_type": "stream",
          "name": "stdout",
          "text": [
            "RMSE: 0.9703\n",
            "Precision:  0.834\n",
            "Recall:  0.799\n",
            "F_1 score:  0.816\n"
          ]
        }
      ],
      "source": [
        "# Using the optimal similarity measure for item-item based collaborative filtering\n",
        "sim_options: {'name': 'msd',\n",
        "              'user_based': False}\n",
        "# Creating an instance of KNNBasic with optimal hyperparameter values\n",
        "\n",
        "knn_item_optimized = KNNBasic(sim_options=sim_options ,k =30 , min_k= 9,random_state = 1 , verbose = False)\n",
        "\n",
        "# Training the algorithm on the trainset\n",
        "knn_item_optimized.fit(trainset)\n",
        "\n",
        "# Let us compute precision@k and recall@k, f1_score and RMSE\n",
        "precision_recall_at_k(knn_item_optimized)"
      ]
    },
    {
      "cell_type": "markdown",
      "metadata": {
        "id": "ZCXKnMI8Tsnt"
      },
      "source": [
        "**Observations:**\n",
        "\n",
        "Before Tuning:\n",
        "- For the Item-Item Similarity Baseline model(without tuning), the RMSE is 1.0232, indicating the average prediction error of the model on the test set.\n",
        "- The Precision of 0.835 suggests that out of all the recommended items, 83.5% are relevant.\n",
        "- The Recall of 0.758 indicates that out of all the relevant items, 75.8% are recommended.\n",
        "- The F1 score of 0.795 represents the balance between precision and recall, where a higher value indicates a better trade-off between the two.\n",
        "\n",
        "After Tuning:\n",
        "- After tuning the Item-Item Similarity model with the parameters {'k': 30, 'min_k': 6, 'sim_options': {'name': 'msd', 'user_based': False}}, we see improvements in the evaluation metrics.\n",
        "- The RMSE decreases to 0.97, indicating a lower average prediction error on the test set.\n",
        "- The Precision remains at 0.83, suggesting that the percentage of relevant items among the recommended items is still pretty same.\n",
        "- The Recall improves to 0.8, indicating a higher percentage of relevant items being recommended.\n",
        "- The F1 score increases to 0.81, showing a better balance between precision and recall compared to the untuned model.\n",
        "\n",
        "These observations highlight the impact of tuning the KNNBasic model on its performance, leading to improved predictions and a better trade-off between precision and recall.\n"
      ]
    },
    {
      "cell_type": "markdown",
      "metadata": {
        "id": "Sbcj_H94Tsnt"
      },
      "source": [
        "### **Steps:**\n",
        "- **Predict rating for the user with `userId=\"A3LDPF5FMB782Z\"`, and `prod_id= \"1400501466\"` using the optimized model**\n",
        "- **Predict rating for `userId=\"A34BZM6S9L7QI4\"` who has not interacted with `prod_id =\"1400501466\"`, by using the optimized model**\n",
        "- **Compare the output with the output from the baseline model**"
      ]
    },
    {
      "cell_type": "code",
      "execution_count": 121,
      "metadata": {
        "id": "gIBRRvdoTsnt",
        "colab": {
          "base_uri": "https://localhost:8080/"
        },
        "outputId": "f2a6be7f-17ac-4a3f-c08e-0d63c1997bff"
      },
      "outputs": [
        {
          "output_type": "stream",
          "name": "stdout",
          "text": [
            "user: A3LDPF5FMB782Z item: 1400501466 r_ui = 5.00   est = 4.32   {'actual_k': 19, 'was_impossible': False}\n"
          ]
        },
        {
          "output_type": "execute_result",
          "data": {
            "text/plain": [
              "Prediction(uid='A3LDPF5FMB782Z', iid='1400501466', r_ui=5, est=4.315789473684211, details={'actual_k': 19, 'was_impossible': False})"
            ]
          },
          "metadata": {},
          "execution_count": 121
        }
      ],
      "source": [
        "# Use item_item_optimized model to recommend for userId \"A3LDPF5FMB782Z\" and productId \"1400501466\"\n",
        "# Predicting rating for a sample user with an interacted product\n",
        "knn_item_optimized.predict('A3LDPF5FMB782Z','1400501466', r_ui = 5, verbose= True)"
      ]
    },
    {
      "cell_type": "markdown",
      "source": [
        "**Observations**\n",
        "\n",
        "Actual : 5.00\n",
        "Predicted : 4.32\n",
        "Same as Baseline Item-Item model"
      ],
      "metadata": {
        "id": "nopJWyWzOQkZ"
      }
    },
    {
      "cell_type": "code",
      "execution_count": 122,
      "metadata": {
        "colab": {
          "base_uri": "https://localhost:8080/"
        },
        "id": "87uFqL-kE-sD",
        "outputId": "d1531a77-1ae2-484b-dee3-895282a90c83"
      },
      "outputs": [
        {
          "output_type": "stream",
          "name": "stdout",
          "text": [
            "user: A34BZM6S9L7QI4 item: 1400501466 r_ui = None   est = 4.29   {'was_impossible': True, 'reason': 'Not enough neighbors.'}\n"
          ]
        },
        {
          "output_type": "execute_result",
          "data": {
            "text/plain": [
              "Prediction(uid='A34BZM6S9L7QI4', iid='1400501466', r_ui=None, est=4.291403190162572, details={'was_impossible': True, 'reason': 'Not enough neighbors.'})"
            ]
          },
          "metadata": {},
          "execution_count": 122
        }
      ],
      "source": [
        "# Use item_item_optimized model to recommend for userId \"A34BZM6S9L7QI4\" and productId \"1400501466\"\n",
        "knn_item_optimized.predict('A34BZM6S9L7QI4','1400501466', verbose= True)"
      ]
    },
    {
      "cell_type": "markdown",
      "metadata": {
        "id": "1EHOD6lrE-sD"
      },
      "source": [
        "**Observations:**\n",
        "\n",
        "- The estimated rating (est) by the model is 4.29, which indicates that the model predicts a rating of 4.29(rounded to 4.00) for this user-item combination.\n",
        "- The additional details show that the prediction was considered impossible due to 'Not enough neighbors.' This suggests that there might not be sufficient similar items or users to make an accurate prediction for this particular combination.\n",
        "- Overall, this observation highlights the limitations of the model in making predictions for cases where there are insufficient neighbors or similarities available.\n",
        "\n",
        "Looks like these methods are giving similar results. Maybe, it's time to Apply Matrix Factorization Approach."
      ]
    },
    {
      "cell_type": "markdown",
      "metadata": {
        "id": "MDlNB7tnTsnu"
      },
      "source": [
        "### **Identifying similar items to a given item (nearest neighbors)**"
      ]
    },
    {
      "cell_type": "markdown",
      "metadata": {
        "id": "RLdDiFA6Tsnu"
      },
      "source": [
        "We can also find out **similar items** to a given item or its nearest neighbors based on this **KNNBasic algorithm**. Below we are finding the 5 most similar items to the item with internal id 0 based on the `msd` distance metric."
      ]
    },
    {
      "cell_type": "code",
      "execution_count": 123,
      "metadata": {
        "id": "ZRJS4oDFTsnu",
        "colab": {
          "base_uri": "https://localhost:8080/"
        },
        "outputId": "440f796e-7a37-4358-f12b-03fc597c4254"
      },
      "outputs": [
        {
          "output_type": "execute_result",
          "data": {
            "text/plain": [
              "[53, 67, 106, 117, 135]"
            ]
          },
          "metadata": {},
          "execution_count": 123
        }
      ],
      "source": [
        "#get neighbours method of KNN model to get similar items for optimized\n",
        "knn_item_optimized.get_neighbors(0,5)"
      ]
    },
    {
      "cell_type": "markdown",
      "metadata": {
        "id": "wRzobCGGE-sD"
      },
      "source": [
        "**Predicting top 5 products for userId = \"A1A5KUIIIHFF4U\" with similarity based recommendation system.**\n",
        "\n",
        "**Hint:** Use the get_recommendations() function."
      ]
    },
    {
      "cell_type": "code",
      "execution_count": 124,
      "metadata": {
        "id": "rzoEbuZFTsnu"
      },
      "outputs": [],
      "source": [
        "# Making top 5 recommendations for user_id A1A5KUIIIHFF4U with similarity-based recommendation engine.\n",
        "recom2  = get_recommendations(df_final, \"A1A5KUIIIHFF4U\", 5, knn_item_optimized)"
      ]
    },
    {
      "cell_type": "code",
      "execution_count": 125,
      "metadata": {
        "id": "_kXVTiysTsnv",
        "colab": {
          "base_uri": "https://localhost:8080/",
          "height": 206
        },
        "outputId": "0eecb99f-f7c4-4b19-980f-73715b0bccec"
      },
      "outputs": [
        {
          "output_type": "execute_result",
          "data": {
            "text/plain": [
              "      prod_id  predicted_ratings\n",
              "0  1400532655           4.291403\n",
              "1  1400599997           4.291403\n",
              "2  9983891212           4.291403\n",
              "3  B00000DM9W           4.291403\n",
              "4  B00000J1V5           4.291403"
            ],
            "text/html": [
              "\n",
              "  <div id=\"df-04010e97-f8d7-4260-a7e5-cf63077b105c\">\n",
              "    <div class=\"colab-df-container\">\n",
              "      <div>\n",
              "<style scoped>\n",
              "    .dataframe tbody tr th:only-of-type {\n",
              "        vertical-align: middle;\n",
              "    }\n",
              "\n",
              "    .dataframe tbody tr th {\n",
              "        vertical-align: top;\n",
              "    }\n",
              "\n",
              "    .dataframe thead th {\n",
              "        text-align: right;\n",
              "    }\n",
              "</style>\n",
              "<table border=\"1\" class=\"dataframe\">\n",
              "  <thead>\n",
              "    <tr style=\"text-align: right;\">\n",
              "      <th></th>\n",
              "      <th>prod_id</th>\n",
              "      <th>predicted_ratings</th>\n",
              "    </tr>\n",
              "  </thead>\n",
              "  <tbody>\n",
              "    <tr>\n",
              "      <th>0</th>\n",
              "      <td>1400532655</td>\n",
              "      <td>4.291403</td>\n",
              "    </tr>\n",
              "    <tr>\n",
              "      <th>1</th>\n",
              "      <td>1400599997</td>\n",
              "      <td>4.291403</td>\n",
              "    </tr>\n",
              "    <tr>\n",
              "      <th>2</th>\n",
              "      <td>9983891212</td>\n",
              "      <td>4.291403</td>\n",
              "    </tr>\n",
              "    <tr>\n",
              "      <th>3</th>\n",
              "      <td>B00000DM9W</td>\n",
              "      <td>4.291403</td>\n",
              "    </tr>\n",
              "    <tr>\n",
              "      <th>4</th>\n",
              "      <td>B00000J1V5</td>\n",
              "      <td>4.291403</td>\n",
              "    </tr>\n",
              "  </tbody>\n",
              "</table>\n",
              "</div>\n",
              "      <button class=\"colab-df-convert\" onclick=\"convertToInteractive('df-04010e97-f8d7-4260-a7e5-cf63077b105c')\"\n",
              "              title=\"Convert this dataframe to an interactive table.\"\n",
              "              style=\"display:none;\">\n",
              "        \n",
              "  <svg xmlns=\"http://www.w3.org/2000/svg\" height=\"24px\"viewBox=\"0 0 24 24\"\n",
              "       width=\"24px\">\n",
              "    <path d=\"M0 0h24v24H0V0z\" fill=\"none\"/>\n",
              "    <path d=\"M18.56 5.44l.94 2.06.94-2.06 2.06-.94-2.06-.94-.94-2.06-.94 2.06-2.06.94zm-11 1L8.5 8.5l.94-2.06 2.06-.94-2.06-.94L8.5 2.5l-.94 2.06-2.06.94zm10 10l.94 2.06.94-2.06 2.06-.94-2.06-.94-.94-2.06-.94 2.06-2.06.94z\"/><path d=\"M17.41 7.96l-1.37-1.37c-.4-.4-.92-.59-1.43-.59-.52 0-1.04.2-1.43.59L10.3 9.45l-7.72 7.72c-.78.78-.78 2.05 0 2.83L4 21.41c.39.39.9.59 1.41.59.51 0 1.02-.2 1.41-.59l7.78-7.78 2.81-2.81c.8-.78.8-2.07 0-2.86zM5.41 20L4 18.59l7.72-7.72 1.47 1.35L5.41 20z\"/>\n",
              "  </svg>\n",
              "      </button>\n",
              "      \n",
              "  <style>\n",
              "    .colab-df-container {\n",
              "      display:flex;\n",
              "      flex-wrap:wrap;\n",
              "      gap: 12px;\n",
              "    }\n",
              "\n",
              "    .colab-df-convert {\n",
              "      background-color: #E8F0FE;\n",
              "      border: none;\n",
              "      border-radius: 50%;\n",
              "      cursor: pointer;\n",
              "      display: none;\n",
              "      fill: #1967D2;\n",
              "      height: 32px;\n",
              "      padding: 0 0 0 0;\n",
              "      width: 32px;\n",
              "    }\n",
              "\n",
              "    .colab-df-convert:hover {\n",
              "      background-color: #E2EBFA;\n",
              "      box-shadow: 0px 1px 2px rgba(60, 64, 67, 0.3), 0px 1px 3px 1px rgba(60, 64, 67, 0.15);\n",
              "      fill: #174EA6;\n",
              "    }\n",
              "\n",
              "    [theme=dark] .colab-df-convert {\n",
              "      background-color: #3B4455;\n",
              "      fill: #D2E3FC;\n",
              "    }\n",
              "\n",
              "    [theme=dark] .colab-df-convert:hover {\n",
              "      background-color: #434B5C;\n",
              "      box-shadow: 0px 1px 3px 1px rgba(0, 0, 0, 0.15);\n",
              "      filter: drop-shadow(0px 1px 2px rgba(0, 0, 0, 0.3));\n",
              "      fill: #FFFFFF;\n",
              "    }\n",
              "  </style>\n",
              "\n",
              "      <script>\n",
              "        const buttonEl =\n",
              "          document.querySelector('#df-04010e97-f8d7-4260-a7e5-cf63077b105c button.colab-df-convert');\n",
              "        buttonEl.style.display =\n",
              "          google.colab.kernel.accessAllowed ? 'block' : 'none';\n",
              "\n",
              "        async function convertToInteractive(key) {\n",
              "          const element = document.querySelector('#df-04010e97-f8d7-4260-a7e5-cf63077b105c');\n",
              "          const dataTable =\n",
              "            await google.colab.kernel.invokeFunction('convertToInteractive',\n",
              "                                                     [key], {});\n",
              "          if (!dataTable) return;\n",
              "\n",
              "          const docLinkHtml = 'Like what you see? Visit the ' +\n",
              "            '<a target=\"_blank\" href=https://colab.research.google.com/notebooks/data_table.ipynb>data table notebook</a>'\n",
              "            + ' to learn more about interactive tables.';\n",
              "          element.innerHTML = '';\n",
              "          dataTable['output_type'] = 'display_data';\n",
              "          await google.colab.output.renderOutput(dataTable, element);\n",
              "          const docLink = document.createElement('div');\n",
              "          docLink.innerHTML = docLinkHtml;\n",
              "          element.appendChild(docLink);\n",
              "        }\n",
              "      </script>\n",
              "    </div>\n",
              "  </div>\n",
              "  "
            ]
          },
          "metadata": {},
          "execution_count": 125
        }
      ],
      "source": [
        "# Building the dataframe for above recommendations with columns \"prod_id\" and \"predicted_ratings\"\n",
        "recom_df2 = pd.DataFrame(recom2, columns = ['prod_id', 'predicted_ratings'])\n",
        "recom_df2"
      ]
    },
    {
      "cell_type": "markdown",
      "metadata": {
        "id": "DHzmYvs0Tsnv"
      },
      "source": [
        "Now as we have seen **similarity-based collaborative filtering algorithms**, let us now get into **model-based collaborative filtering algorithms**."
      ]
    },
    {
      "cell_type": "markdown",
      "metadata": {
        "id": "rKgJpSA9vOOL"
      },
      "source": [
        "### **Model 3: Model-Based Collaborative Filtering - Matrix Factorization**"
      ]
    },
    {
      "cell_type": "markdown",
      "metadata": {
        "id": "YF6ZGyqhCAob"
      },
      "source": [
        "Model-based Collaborative Filtering is a **personalized recommendation system**, the recommendations are based on the past behavior of the user and it is not dependent on any additional information. We use **latent features** to find recommendations for each user."
      ]
    },
    {
      "cell_type": "markdown",
      "metadata": {
        "id": "n4Otha8ovOOL"
      },
      "source": [
        "### Singular Value Decomposition (SVD)"
      ]
    },
    {
      "cell_type": "markdown",
      "metadata": {
        "id": "3sGl3QkLvOOL"
      },
      "source": [
        "SVD is used to **compute the latent features** from the **user-item matrix**. But SVD does not work when we **miss values** in the **user-item matrix**."
      ]
    },
    {
      "cell_type": "code",
      "execution_count": 126,
      "metadata": {
        "id": "07-2PT5Ssjqm",
        "colab": {
          "base_uri": "https://localhost:8080/"
        },
        "outputId": "b2edf7c8-f737-4e28-c33f-5dbf15c6f5f5"
      },
      "outputs": [
        {
          "output_type": "stream",
          "name": "stdout",
          "text": [
            "RMSE: 0.8989\n",
            "Precision:  0.86\n",
            "Recall:  0.797\n",
            "F_1 score:  0.827\n"
          ]
        }
      ],
      "source": [
        "# Using SVD matrix factorization. Use random_state = 1\n",
        "svd = SVD(random_state= 1)\n",
        "# Training the algorithm on the trainset\n",
        "svd.fit(trainset)\n",
        "# Use the function precision_recall_at_k to compute precision@k, recall@k, F1-Score, and RMSE\n",
        "precision_recall_at_k(svd)"
      ]
    },
    {
      "cell_type": "markdown",
      "metadata": {
        "id": "BQ6fTuCDnVNL"
      },
      "source": [
        "---\n",
        "**Observation for SVD Matrix Factorization:**\n",
        "---\n",
        "---\n",
        "- RMSE: 0.8989\n",
        "- Precision: 0.86\n",
        "- Recall: 0.797\n",
        "- F1 score: 0.827\n",
        "\n",
        "\n",
        "- RMSE: The SVD Matrix Factorization approach outperforms the item-item optimized collaborative score, with a lower RMSE value of 0.8989 compared to 0.9715. A lower RMSE indicates better accuracy in predicting ratings.\n",
        "\n",
        "- Precision: The SVD Matrix Factorization approach achieves a higher precision of 0.86, indicating a higher proportion of recommendations being relevant, compared to 0.835 in the item-item optimized collaborative score.\n",
        "\n",
        "- Recall: The recall values are relatively similar, with 0.796 for the item-item optimized collaborative score and 0.797 for the SVD Matrix Factorization approach. Recall measures the proportion of relevant items that are recommended.\n",
        "\n",
        "- F1 score: The SVD Matrix Factorization approach achieves a slightly higher F1 score of 0.827, indicating a better balance between precision and recall, compared to 0.815 in the item-item optimized collaborative score.\n",
        "\n",
        "Based on these observations, the SVD Matrix Factorization approach shows better performance in terms of RMSE, precision, and F1 score compared to the item-item optimized collaborative score. However, recall values are relatively similar between the two approaches.\n"
      ]
    },
    {
      "cell_type": "markdown",
      "metadata": {
        "id": "-f4YGrHwE-sE"
      },
      "source": [
        "**Let's now predict the rating for a user with `userId = \"A3LDPF5FMB782Z\"` and `prod_id = \"1400501466`.**"
      ]
    },
    {
      "cell_type": "code",
      "execution_count": 127,
      "metadata": {
        "id": "yWIhfdxXsjqm",
        "colab": {
          "base_uri": "https://localhost:8080/"
        },
        "outputId": "a0a7e0c4-5d46-48fd-bfb0-e8bff9bed580"
      },
      "outputs": [
        {
          "output_type": "stream",
          "name": "stdout",
          "text": [
            "user: A3LDPF5FMB782Z item: 1400501466 r_ui = 5.00   est = 4.07   {'was_impossible': False}\n"
          ]
        },
        {
          "output_type": "execute_result",
          "data": {
            "text/plain": [
              "Prediction(uid='A3LDPF5FMB782Z', iid='1400501466', r_ui=5, est=4.070652912318144, details={'was_impossible': False})"
            ]
          },
          "metadata": {},
          "execution_count": 127
        }
      ],
      "source": [
        "# Making prediction\n",
        "svd.predict('A3LDPF5FMB782Z','1400501466', r_ui = 5, verbose= True)"
      ]
    },
    {
      "cell_type": "markdown",
      "metadata": {
        "id": "oIjzqDY5nVNM"
      },
      "source": [
        "**Observations**\n",
        "\n",
        "Actual : 5.00\n",
        "Predicted : 4.07 rounded to 4.\n",
        "Lower than  Item-Item Similarity model."
      ]
    },
    {
      "cell_type": "markdown",
      "metadata": {
        "id": "I1aYxVeMnVNM"
      },
      "source": [
        "**Below we are predicting rating for the `userId = \"A34BZM6S9L7QI4\"` and `productId = \"1400501466\"`.**"
      ]
    },
    {
      "cell_type": "code",
      "execution_count": 128,
      "metadata": {
        "id": "APm-uMSvcAMf",
        "colab": {
          "base_uri": "https://localhost:8080/"
        },
        "outputId": "d42d13de-f2a2-4a89-dcd9-bc09ee3b7048"
      },
      "outputs": [
        {
          "output_type": "stream",
          "name": "stdout",
          "text": [
            "user: A34BZM6S9L7QI4 item: 1400501466 r_ui = None   est = 4.39   {'was_impossible': False}\n"
          ]
        },
        {
          "output_type": "execute_result",
          "data": {
            "text/plain": [
              "Prediction(uid='A34BZM6S9L7QI4', iid='1400501466', r_ui=None, est=4.3949263041205775, details={'was_impossible': False})"
            ]
          },
          "metadata": {},
          "execution_count": 128
        }
      ],
      "source": [
        "# Making prediction non interacting\n",
        "svd.predict('A34BZM6S9L7QI4','1400501466', verbose= True)"
      ]
    },
    {
      "cell_type": "markdown",
      "metadata": {
        "id": "NEL6dy3wnVNM"
      },
      "source": [
        "**Observations:**\n",
        "\n",
        "The SVD prediction suggests that for user A34BZM6S9L7QI4 and item 1400501466 (non interacting user-item pair), the predicted rating is 4.39.\n",
        "\n",
        "The SVD algorithm was able to generate a prediction for this user-item combination, and the 'was_impossible' flag is set to False, indicating that the prediction was feasible to compute.\n",
        "\n",
        "Please note that the predicted rating is based on the underlying SVD model and the available data, and it may not perfectly align with the user's actual preference for the item.\n"
      ]
    },
    {
      "cell_type": "markdown",
      "metadata": {
        "id": "x13Eb9Owvpcw"
      },
      "source": [
        "### **Improving Matrix Factorization based recommendation system by tuning its hyperparameters**"
      ]
    },
    {
      "cell_type": "markdown",
      "metadata": {
        "id": "iQcDPhhcnVNN"
      },
      "source": [
        "Below we will be tuning only three hyperparameters:\n",
        "- **n_epochs**: The number of iterations of the SGD algorithm.\n",
        "- **lr_all**: The learning rate for all parameters.\n",
        "- **reg_all**: The regularization term for all parameters."
      ]
    },
    {
      "cell_type": "code",
      "execution_count": 129,
      "metadata": {
        "id": "4bM81V_hvtwv",
        "colab": {
          "base_uri": "https://localhost:8080/"
        },
        "outputId": "e596eebb-a042-48dd-ca8d-474955178237"
      },
      "outputs": [
        {
          "output_type": "execute_result",
          "data": {
            "text/plain": [
              "{'n_epochs': 20, 'lr_all': 0.01, 'reg_all': 0.2}"
            ]
          },
          "metadata": {},
          "execution_count": 129
        }
      ],
      "source": [
        "# Set the parameter space to tune\n",
        "param_grid = {'n_epochs': [10, 20, 30], 'lr_all': [0.001, 0.005, 0.01],\n",
        "              'reg_all': [0.2, 0.4, 0.6]}\n",
        "# Performing 3-fold gridsearch cross-validation\n",
        "gsvd = GridSearchCV(SVD, param_grid, measures=['rmse'], cv=3, n_jobs=-1)\n",
        "# Fitting data\n",
        "gsvd.fit(data)\n",
        "# Best RMSE score\n",
        "gsvd.best_score['rmse']\n",
        "# Combination of parameters that gave the best RMSE score\n",
        "gsvd.best_params['rmse']"
      ]
    },
    {
      "cell_type": "markdown",
      "metadata": {
        "id": "KzY78HsrnVNO"
      },
      "source": [
        "Now, we will **the build final model** by using **tuned values** of the hyperparameters, which we received using grid search cross-validation above.\n",
        "\n",
        "**{'n_epochs': 20, 'lr_all': 0.01, 'reg_all': 0.2}**"
      ]
    },
    {
      "cell_type": "code",
      "execution_count": 130,
      "metadata": {
        "id": "TA_7xe-nnhuu",
        "colab": {
          "base_uri": "https://localhost:8080/"
        },
        "outputId": "26da3308-7eaf-427a-a263-c4ee6d0fe034"
      },
      "outputs": [
        {
          "output_type": "stream",
          "name": "stdout",
          "text": [
            "RMSE: 0.8899\n",
            "Precision:  0.862\n",
            "Recall:  0.796\n",
            "F_1 score:  0.828\n"
          ]
        }
      ],
      "source": [
        "# Build the optimized SVD model using optimal hyperparameter search. Use random_state=1\n",
        "svd_optimized= SVD(n_epochs= 20 ,lr_all= 0.01 , reg_all= 0.2, random_state= 1)\n",
        "# Train the algorithm on the trainset\n",
        "svd_optimized.fit(trainset)\n",
        "# Use the function precision_recall_at_k to compute precision@k, recall@k, F1-Score, and RMSE\n",
        "precision_recall_at_k(svd_optimized)"
      ]
    },
    {
      "cell_type": "markdown",
      "metadata": {
        "id": "9HJvPsjITsny"
      },
      "source": [
        "---\n",
        "**Observation for Tuned - SVD Matrix Factorization:**\n",
        "---\n",
        "---\n",
        "- RMSE: 0.8899\n",
        "- Precision:  0.862\n",
        "- Recall:  0.796\n",
        "- F_1 score:  0.828\n",
        "- 'n_epochs': 20,\n",
        "- 'lr_all': 0.01,\n",
        "- 'reg_all': 0.2\n",
        "\n",
        "\n",
        "Comparing the SVD performance before and after tuning the learning rate (LR), regularization (Reg), and number of epochs, the following observations can be made:\n",
        "\n",
        "- RMSE: After tuning, the RMSE value improved from 0.8989 to 0.8899. A lower RMSE indicates better accuracy in predicting ratings.\n",
        "\n",
        "- Precision: The precision increased from 0.86 to 0.862 after tuning, indicating a higher proportion of relevant items being recommended.\n",
        "\n",
        "- Recall: The recall values remained relatively unchanged, with 0.797 before tuning and 0.796 after tuning. Recall measures the proportion of relevant items that are recommended.\n",
        "\n",
        "- F1 score: The F1 score increased from 0.82 to 0.828 after tuning. The F1 score combines precision and recall into a single metric, representing a better balance between the two. This is the main metric I would consider.\n",
        "\n",
        "Based on these observations, tuning the LR, Reg, and epochs in the SVD model led to improvements in terms of RMSE, precision, and F1 score. However, the recall values remained relatively stable.\n",
        "\n"
      ]
    },
    {
      "cell_type": "markdown",
      "metadata": {
        "id": "oyv2I_DmE-sF"
      },
      "source": [
        "### **Steps:**\n",
        "- **Predict rating for the user with `userId=\"A3LDPF5FMB782Z\"`, and `prod_id= \"1400501466\"` using the optimized model**\n",
        "- **Predict rating for `userId=\"A34BZM6S9L7QI4\"` who has not interacted with `prod_id =\"1400501466\"`, by using the optimized model**\n",
        "- **Compare the output with the output from the baseline model**"
      ]
    },
    {
      "cell_type": "code",
      "execution_count": 131,
      "metadata": {
        "id": "f6cflr4hE-sF",
        "colab": {
          "base_uri": "https://localhost:8080/"
        },
        "outputId": "e95abb21-629c-4f48-c450-8313550cd9fa"
      },
      "outputs": [
        {
          "output_type": "stream",
          "name": "stdout",
          "text": [
            "user: A3LDPF5FMB782Z item: 1400501466 r_ui = 5.00   est = 4.12   {'was_impossible': False}\n"
          ]
        },
        {
          "output_type": "execute_result",
          "data": {
            "text/plain": [
              "Prediction(uid='A3LDPF5FMB782Z', iid='1400501466', r_ui=5, est=4.1155455665170155, details={'was_impossible': False})"
            ]
          },
          "metadata": {},
          "execution_count": 131
        }
      ],
      "source": [
        "# Use svd_algo_optimized model to recommend for userId \"A3LDPF5FMB782Z\" and productId \"1400501466\"\n",
        "svd_optimized.predict('A3LDPF5FMB782Z','1400501466', r_ui = 5, verbose= True)"
      ]
    },
    {
      "cell_type": "code",
      "execution_count": 132,
      "metadata": {
        "id": "CSHJ2uiAE-sF",
        "colab": {
          "base_uri": "https://localhost:8080/"
        },
        "outputId": "e5aa5144-ba1d-48ff-feab-dac230e10d3b"
      },
      "outputs": [
        {
          "output_type": "stream",
          "name": "stdout",
          "text": [
            "user: A34BZM6S9L7QI4 item: 1400501466 r_ui = None   est = 4.16   {'was_impossible': False}\n"
          ]
        },
        {
          "output_type": "execute_result",
          "data": {
            "text/plain": [
              "Prediction(uid='A34BZM6S9L7QI4', iid='1400501466', r_ui=None, est=4.163970514424571, details={'was_impossible': False})"
            ]
          },
          "metadata": {},
          "execution_count": 132
        }
      ],
      "source": [
        "# Use svd_algo_optimized model to recommend for userId \"A34BZM6S9L7QI4\" and productId \"1400501466\"\n",
        "svd_optimized.predict('A34BZM6S9L7QI4','1400501466', verbose= True)"
      ]
    },
    {
      "cell_type": "markdown",
      "source": [
        "**Observations:**\n",
        "\n",
        "Predicted Rating for Interaction pair : 4.12\n",
        "\n",
        "Predicted Rating for No-interaction pair :4.16"
      ],
      "metadata": {
        "id": "Xl0flYhA2fR_"
      }
    },
    {
      "cell_type": "code",
      "source": [
        "model_names = ['User-user similarity-based collaborative filtering: knn_user', 'knn_user_optimized', ' Item-item similarity-based collaborative filtering: knn_item', 'knn_item_optimized', 'Model-based (matrix factorization) collaborative filtering: svd', 'svd_optimized']\n",
        "models = [knn_user, knn_user_optimized, knn_item, knn_item_optimized, svd, svd_optimized]\n",
        "model_dict = dict(zip(model_names, models))\n",
        "\n",
        "for model_name, model in model_dict.items():\n",
        "    print(f\"Model Name: {model_name}\")\n",
        "    precision_recall_at_k(model)\n",
        "    print()"
      ],
      "metadata": {
        "colab": {
          "base_uri": "https://localhost:8080/"
        },
        "id": "m87ij-Qg3pke",
        "outputId": "74b61367-b6ba-41a3-8ef0-c43b6644eb00"
      },
      "execution_count": 133,
      "outputs": [
        {
          "output_type": "stream",
          "name": "stdout",
          "text": [
            "Model Name: User-user similarity-based collaborative filtering: knn_user\n",
            "RMSE: 1.0250\n",
            "Precision:  0.86\n",
            "Recall:  0.783\n",
            "F_1 score:  0.82\n",
            "\n",
            "Model Name: knn_user_optimized\n",
            "RMSE: 0.9621\n",
            "Precision:  0.852\n",
            "Recall:  0.809\n",
            "F_1 score:  0.83\n",
            "\n",
            "Model Name:  Item-item similarity-based collaborative filtering: knn_item\n",
            "RMSE: 1.0232\n",
            "Precision:  0.835\n",
            "Recall:  0.758\n",
            "F_1 score:  0.795\n",
            "\n",
            "Model Name: knn_item_optimized\n",
            "RMSE: 0.9703\n",
            "Precision:  0.834\n",
            "Recall:  0.799\n",
            "F_1 score:  0.816\n",
            "\n",
            "Model Name: Model-based (matrix factorization) collaborative filtering: svd\n",
            "RMSE: 0.8989\n",
            "Precision:  0.86\n",
            "Recall:  0.797\n",
            "F_1 score:  0.827\n",
            "\n",
            "Model Name: svd_optimized\n",
            "RMSE: 0.8899\n",
            "Precision:  0.862\n",
            "Recall:  0.796\n",
            "F_1 score:  0.828\n",
            "\n"
          ]
        }
      ]
    },
    {
      "cell_type": "markdown",
      "metadata": {
        "id": "nnwPwgjB8DwS"
      },
      "source": [
        "### **Conclusion and Recommendations**"
      ]
    },
    {
      "cell_type": "markdown",
      "source": [
        "- With the aim to improve business outcome by getting customers to relevant products, we built recommendation systems using four different types algorithms. They are as follows:\n",
        "\n",
        "1. Rank-based Recommendation:\n",
        "\n",
        "This approach, using averages and recommending top 5 products based on popularity, can be useful for new users(cold starts) joining the platform with limited data points.\n",
        "It provides a simple and straightforward way to offer initial recommendations.\n",
        "However, it doesn't take into account personalized user preferences and may not provide the most tailored recommendations.\n",
        "\n",
        "2. User-User Similarity-based Collaborative Filtering (knn_user):\n",
        "\n",
        "Achieved an RMSE of 1.0250, Precision of 0.86, Recall of 0.783, and F1 score of 0.82.\n",
        "Provides personalized recommendations based on similarities between users.\n",
        "It performs reasonably well in terms of precision and F1 score, but the RMSE indicates room for improvement.\n",
        "\n",
        "Recommendation: Consider further optimizing the model to enhance its performance, potentially by fine-tuning hyperparameters or exploring alternative similarity metrics.\n",
        "\n",
        "  2.1 Optimized User-User Similarity-based Collaborative Filtering (knn_user_optimized):\n",
        "\n",
        "  Achieved an RMSE of 0.9621, Precision of 0.852, Recall of 0.809, and F1 score of 0.83.\n",
        "  Shows improvement compared to the previous user-user similarity-based model.\n",
        "  Provides better precision and recall, indicating more accurate recommendations.\n",
        "\n",
        "  Recommendation: This optimized model can be a good choice for personalized recommendations based on user similarities. We can consider deploying it for production use.\n",
        "\n",
        "3. Item-Item Similarity-based Collaborative Filtering (knn_item):\n",
        "\n",
        "Achieved an RMSE of 1.0232, Precision of 0.835, Recall of 0.758, and F1 score of 0.795.\n",
        "Focuses on item similarities to generate recommendations.\n",
        "Provides reasonable precision but has a relatively lower recall compared to the user-user similarity-based model.\n",
        "\n",
        "Recommendation: Consider exploring ways to improve the recall of the item-item similarity-based model, such as incorporating additional features or applying advanced techniques like matrix factorization.\n",
        "\n",
        "  3.1. Optimized Item-Item Similarity-based Collaborative Filtering (knn_item_optimized):\n",
        "\n",
        "  Achieved an RMSE of 0.9715, Precision of 0.835, Recall of 0.796, and F1 score of 0.815.\n",
        "  Shows improvement compared to the previous item-item similarity-based model.\n",
        "  Provides a good balance between precision and recall.\n",
        "\n",
        "  Recommendation: This optimized model can be a reliable choice for item-based recommendations, with improved performance over the baseline model.\n",
        "\n",
        "4. Model-based Collaborative Filtering (svd):\n",
        "\n",
        "Achieved an RMSE of 0.8989, Precision of 0.86, Recall of 0.797, and F1 score of 0.827.\n",
        "Utilizes matrix factorization techniques to generate recommendations.Matrix Factorization has lower RMSE due to the reason that it assumes that both items and users are present in some low dimensional space describing their properties and recommend an item based on its proximity to the user in the latent space. Implying it accounts for latent factors as well.\n",
        "Shows the lowest RMSE among the compared models, indicating better accuracy.\n",
        "\n",
        "Recommendation: The model-based approach using matrix factorization demonstrates strong performance. Consider leveraging this model for accurate and personalized recommendations.\n",
        "\n",
        "  4. 1. Optimized Model-based Collaborative Filtering (svd_optimized):\n",
        "\n",
        "Achieved an RMSE of 0.8899, Precision of 0.862, Recall of 0.796, and F1 score of 0.828.\n",
        "Shows further improvement compared to the previous model-based collaborative filtering model.\n",
        "Provides high precision, recall, and F1 score, indicating accurate and well-rounded recommendations.\n",
        "\n",
        "Recommendation: This optimized model performs well across various evaluation metrics. It is recommended for accurate and personalized recommendations based on matrix factorization.\n",
        "\n",
        "**Based on the above comparisons of the F1 score, it is clear that the optimized Matrix Factorization model-based collaborative filtering (svd_optimized) stands out as a strong performer, offering accurate and personalized recommendations.\n",
        "One quick recommendation to the business would be to incentivize ratings submission with discounts / points. This will in turn assist in improving the model with more ratings relevant training data.**\n"
      ],
      "metadata": {
        "id": "wcyiG6VhzXfU"
      }
    },
    {
      "cell_type": "code",
      "source": [],
      "metadata": {
        "id": "do9XUBogZF6z"
      },
      "execution_count": null,
      "outputs": []
    }
  ],
  "metadata": {
    "colab": {
      "provenance": [],
      "include_colab_link": true
    },
    "kernelspec": {
      "display_name": "Python 3 (ipykernel)",
      "language": "python",
      "name": "python3"
    },
    "language_info": {
      "codemirror_mode": {
        "name": "ipython",
        "version": 3
      },
      "file_extension": ".py",
      "mimetype": "text/x-python",
      "name": "python",
      "nbconvert_exporter": "python",
      "pygments_lexer": "ipython3",
      "version": "3.9.7"
    }
  },
  "nbformat": 4,
  "nbformat_minor": 0
}